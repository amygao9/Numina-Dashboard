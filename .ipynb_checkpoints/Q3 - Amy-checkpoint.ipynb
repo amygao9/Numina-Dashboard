{
 "cells": [
  {
   "cell_type": "markdown",
   "metadata": {},
   "source": [
    "## Q3 ~ Amy"
   ]
  },
  {
   "cell_type": "code",
   "execution_count": 1,
   "metadata": {},
   "outputs": [],
   "source": [
    "\n",
    "from __future__ import print_function\n",
    "from ipywidgets import interact, interactive, fixed, interact_manual\n",
    "import ipywidgets as widgets\n",
    "import json\n",
    "import pandas as pd\n",
    "\n",
    "# store login data in login.py\n",
    "%run login.py\n",
    "\n",
    "loginquery = f\"\"\"\n",
    "mutation {{\n",
    "  logIn(\n",
    "      email:\\\"{login}\\\",\n",
    "      password:\\\"{pwd}\\\") {{\n",
    "    jwt {{\n",
    "      token\n",
    "      exp\n",
    "    }}\n",
    "  }}\n",
    "}}\n",
    "\"\"\"\n",
    "import requests\n",
    "url = 'https://api.numina.co/graphql'\n",
    "\n",
    "mylogin = requests.post(url, json={'query': loginquery})\n",
    "token = mylogin.json()['data']['logIn']['jwt']['token']\n",
    "expdate = mylogin.json()['data']['logIn']['jwt']['exp']"
   ]
  },
  {
   "cell_type": "code",
   "execution_count": 2,
   "metadata": {},
   "outputs": [],
   "source": [
    "query2 = \"\"\"\n",
    "query {\n",
    "  feedCountMetrics(\n",
    "    serialnos:[\"SWLSANDBOX3\", \"SWLSANDBOX1\", \"SWLSANDBOX2\"],\n",
    "    startTime:\"2018-01-01T00:00:00\",\n",
    "    endTime:\"2019-12-31T00:00:00\",\n",
    "    objClasses:[\"pedestrian\"],\n",
    "    timezone:\"America/New_York\",\n",
    "    interval:\"24h\") {\n",
    "    edges {\n",
    "      node {\n",
    "        serialno\n",
    "        result\n",
    "        objClass\n",
    "        time\n",
    "      }\n",
    "    }\n",
    "  }\n",
    "}\n",
    "\"\"\"\n",
    "\n",
    "peds = requests.post(url, json={'query': query2}, headers = {'Authorization':token})\n",
    "\n",
    "\n",
    "l = peds.json()['data']['feedCountMetrics']['edges']\n",
    "query1 = \"\"\"\n",
    "query {\n",
    "  feedCountMetrics(\n",
    "    serialnos:[\"SWLSANDBOX3\", \"SWLSANDBOX1\", \"SWLSANDBOX2\"],\n",
    "    startTime:\"2018-01-01T00:00:00\",\n",
    "    endTime:\"2019-12-31T00:00:00\",\n",
    "    objClasses:[\"bicycle\"],\n",
    "    timezone:\"America/New_York\",\n",
    "    interval:\"24h\") {\n",
    "    edges {\n",
    "      node {\n",
    "        serialno\n",
    "        result\n",
    "        objClass\n",
    "        time\n",
    "      }\n",
    "    }\n",
    "  }\n",
    "}\n",
    "\"\"\"\n",
    "bikes = requests.post(url, json={'query': query1}, headers = {'Authorization':token})\n",
    "\n",
    "b = bikes.json()['data']['feedCountMetrics']['edges']\n",
    "\n",
    "query3 = \"\"\"\n",
    "query {\n",
    "  feedCountMetrics(\n",
    "    serialnos:[\"SWLSANDBOX3\", \"SWLSANDBOX1\", \"SWLSANDBOX2\"],\n",
    "    startTime:\"2018-01-01T00:00:00\",\n",
    "    endTime:\"2019-12-31T00:00:00\",\n",
    "    objClasses:[\"car\"],\n",
    "    timezone:\"America/New_York\",\n",
    "    interval:\"24h\") {\n",
    "    edges {\n",
    "      node {\n",
    "        serialno\n",
    "        result\n",
    "        objClass\n",
    "        time\n",
    "      }\n",
    "    }\n",
    "  }\n",
    "}\n",
    "\"\"\"\n",
    "cars = requests.post(url, json={'query': query3}, headers = {'Authorization':token})\n",
    "\n",
    "c = cars.json()['data']['feedCountMetrics']['edges']"
   ]
  },
  {
   "cell_type": "code",
   "execution_count": 3,
   "metadata": {},
   "outputs": [
    {
     "data": {
      "text/plain": [
       "{'devices': {'count': 3,\n",
       "  'edges': [{'node': {'name': 'Streetscape - Sandbox',\n",
       "     'rawId': '1b41b3eb5c254ea188c5bba172a89f76',\n",
       "     'serialno': 'SWLSANDBOX1'}},\n",
       "   {'node': {'name': 'Outside - Sandbox',\n",
       "     'rawId': '29b315c428c54c77833d10822b429ded',\n",
       "     'serialno': 'SWLSANDBOX3'}},\n",
       "   {'node': {'name': 'Under Raincoat - Sandbox',\n",
       "     'rawId': 'b0e5945bb2b14ad5977b138cd534c42e',\n",
       "     'serialno': 'SWLSANDBOX2'}}]}}"
      ]
     },
     "execution_count": 3,
     "metadata": {},
     "output_type": "execute_result"
    }
   ],
   "source": [
    "query0 = \"\"\"\n",
    "query {\n",
    "  devices {\n",
    "    count\n",
    "    edges {\n",
    "      node {\n",
    "        rawId\n",
    "        name\n",
    "        serialno\n",
    "      }\n",
    "    }\n",
    "  }\n",
    "}\n",
    "\"\"\"\n",
    "s = requests.post(url, json={'query': query0}, headers = {'Authorization':token})\n",
    "s.json()['data']"
   ]
  },
  {
   "cell_type": "code",
   "execution_count": 4,
   "metadata": {},
   "outputs": [
    {
     "data": {
      "application/vnd.jupyter.widget-view+json": {
       "model_id": "3171e7dbcd374ef6a4dc3bb56524cd75",
       "version_major": 2,
       "version_minor": 0
      },
      "text/plain": [
       "interactive(children=(Dropdown(description='x', index=2, options=('SWLSANDBOX1', 'SWLSANDBOX2', 'SWLSANDBOX3')…"
      ]
     },
     "metadata": {},
     "output_type": "display_data"
    }
   ],
   "source": [
    "def f(x):\n",
    "    \n",
    "    sensor = x\n",
    "    display(sensor)\n",
    "    return sensor\n",
    "\n",
    "sensor = interactive(f, x=widgets.Dropdown(options=[\"SWLSANDBOX1\", \"SWLSANDBOX2\", \"SWLSANDBOX3\"], value = \"SWLSANDBOX3\", disabled = False))\n",
    "display(sensor)\n",
    "#outside sandbox"
   ]
  },
  {
   "cell_type": "code",
   "execution_count": 5,
   "metadata": {},
   "outputs": [
    {
     "name": "stderr",
     "output_type": "stream",
     "text": [
      "/Users/Amy0127/opt/miniconda3/lib/python3.7/site-packages/ipykernel_launcher.py:14: SettingWithCopyWarning: \n",
      "A value is trying to be set on a copy of a slice from a DataFrame\n",
      "\n",
      "See the caveats in the documentation: http://pandas.pydata.org/pandas-docs/stable/user_guide/indexing.html#returning-a-view-versus-a-copy\n",
      "  \n",
      "/Users/Amy0127/opt/miniconda3/lib/python3.7/site-packages/ipykernel_launcher.py:19: SettingWithCopyWarning: \n",
      "A value is trying to be set on a copy of a slice from a DataFrame\n",
      "\n",
      "See the caveats in the documentation: http://pandas.pydata.org/pandas-docs/stable/user_guide/indexing.html#returning-a-view-versus-a-copy\n"
     ]
    },
    {
     "data": {
      "text/html": [
       "<div>\n",
       "<style scoped>\n",
       "    .dataframe tbody tr th:only-of-type {\n",
       "        vertical-align: middle;\n",
       "    }\n",
       "\n",
       "    .dataframe tbody tr th {\n",
       "        vertical-align: top;\n",
       "    }\n",
       "\n",
       "    .dataframe thead th {\n",
       "        text-align: right;\n",
       "    }\n",
       "</style>\n",
       "<table border=\"1\" class=\"dataframe\">\n",
       "  <thead>\n",
       "    <tr style=\"text-align: right;\">\n",
       "      <th></th>\n",
       "      <th>Number of Pedestrians</th>\n",
       "      <th>Day of Week</th>\n",
       "      <th>Bikes</th>\n",
       "      <th>Cars</th>\n",
       "      <th>Total</th>\n",
       "    </tr>\n",
       "    <tr>\n",
       "      <th>Date</th>\n",
       "      <th></th>\n",
       "      <th></th>\n",
       "      <th></th>\n",
       "      <th></th>\n",
       "      <th></th>\n",
       "    </tr>\n",
       "  </thead>\n",
       "  <tbody>\n",
       "    <tr>\n",
       "      <th>2019-12-26</th>\n",
       "      <td>49</td>\n",
       "      <td>Thursday</td>\n",
       "      <td>1</td>\n",
       "      <td>0</td>\n",
       "      <td>50</td>\n",
       "    </tr>\n",
       "    <tr>\n",
       "      <th>2019-12-27</th>\n",
       "      <td>45</td>\n",
       "      <td>Friday</td>\n",
       "      <td>0</td>\n",
       "      <td>2</td>\n",
       "      <td>47</td>\n",
       "    </tr>\n",
       "    <tr>\n",
       "      <th>2019-12-28</th>\n",
       "      <td>110</td>\n",
       "      <td>Saturday</td>\n",
       "      <td>0</td>\n",
       "      <td>1</td>\n",
       "      <td>111</td>\n",
       "    </tr>\n",
       "    <tr>\n",
       "      <th>2019-12-29</th>\n",
       "      <td>15</td>\n",
       "      <td>Sunday</td>\n",
       "      <td>0</td>\n",
       "      <td>0</td>\n",
       "      <td>15</td>\n",
       "    </tr>\n",
       "    <tr>\n",
       "      <th>2019-12-30</th>\n",
       "      <td>143</td>\n",
       "      <td>Monday</td>\n",
       "      <td>0</td>\n",
       "      <td>2</td>\n",
       "      <td>145</td>\n",
       "    </tr>\n",
       "  </tbody>\n",
       "</table>\n",
       "</div>"
      ],
      "text/plain": [
       "            Number of Pedestrians Day of Week  Bikes  Cars  Total\n",
       "Date                                                             \n",
       "2019-12-26                     49    Thursday      1     0     50\n",
       "2019-12-27                     45      Friday      0     2     47\n",
       "2019-12-28                    110    Saturday      0     1    111\n",
       "2019-12-29                     15      Sunday      0     0     15\n",
       "2019-12-30                    143      Monday      0     2    145"
      ]
     },
     "execution_count": 5,
     "metadata": {},
     "output_type": "execute_result"
    }
   ],
   "source": [
    "from datetime import datetime\n",
    "df = pd.DataFrame(columns = ['Date', 'Number of Pedestrians', \"Day of Week\", 'Bikes', 'Cars'])\n",
    "\n",
    "\n",
    "for node in l:\n",
    "    if node['node']['serialno'] == sensor.result:\n",
    "        date = datetime.strptime(node['node']['time'][:10], '%Y-%m-%d')\n",
    "        df = df.append({'Date': date, 'Number of Pedestrians': node['node']['result'], \"Day of Week\" : date.strftime('%A')}, ignore_index=True)\n",
    "df.set_index('Date', inplace=True)\n",
    "\n",
    "for node in b:\n",
    "    if node['node']['serialno'] == sensor.result:\n",
    "        date = datetime.strptime(node['node']['time'][:10], '%Y-%m-%d')\n",
    "        df['Bikes'][date] = node['node']['result']\n",
    "\n",
    "for node in c:\n",
    "    if node['node']['serialno'] == sensor.result:\n",
    "        date = datetime.strptime(node['node']['time'][:10], '%Y-%m-%d')\n",
    "        df['Cars'][date] = node['node']['result']\n",
    "\n",
    "    \n",
    "df['Total'] = df['Number of Pedestrians'] + df['Cars'] + df['Bikes']\n",
    "df[['Total', 'Number of Pedestrians', 'Bikes', 'Cars']] = df[['Total', 'Number of Pedestrians', 'Bikes', 'Cars']].astype('int32')\n",
    "df.tail()"
   ]
  },
  {
   "cell_type": "code",
   "execution_count": 6,
   "metadata": {},
   "outputs": [
    {
     "data": {
      "text/plain": [
       "Number of Pedestrians     int32\n",
       "Day of Week              object\n",
       "Bikes                     int32\n",
       "Cars                      int32\n",
       "Total                     int32\n",
       "dtype: object"
      ]
     },
     "execution_count": 6,
     "metadata": {},
     "output_type": "execute_result"
    }
   ],
   "source": [
    "df.dtypes"
   ]
  },
  {
   "cell_type": "code",
   "execution_count": 7,
   "metadata": {},
   "outputs": [
    {
     "data": {
      "text/html": [
       "        <script type=\"text/javascript\">\n",
       "        window.PlotlyConfig = {MathJaxConfig: 'local'};\n",
       "        if (window.MathJax) {MathJax.Hub.Config({SVG: {font: \"STIX-Web\"}});}\n",
       "        if (typeof require !== 'undefined') {\n",
       "        require.undef(\"plotly\");\n",
       "        requirejs.config({\n",
       "            paths: {\n",
       "                'plotly': ['https://cdn.plot.ly/plotly-latest.min']\n",
       "            }\n",
       "        });\n",
       "        require(['plotly'], function(Plotly) {\n",
       "            window._Plotly = Plotly;\n",
       "        });\n",
       "        }\n",
       "        </script>\n",
       "        "
      ]
     },
     "metadata": {},
     "output_type": "display_data"
    },
    {
     "data": {
      "text/html": [
       "        <script type=\"text/javascript\">\n",
       "        window.PlotlyConfig = {MathJaxConfig: 'local'};\n",
       "        if (window.MathJax) {MathJax.Hub.Config({SVG: {font: \"STIX-Web\"}});}\n",
       "        if (typeof require !== 'undefined') {\n",
       "        require.undef(\"plotly\");\n",
       "        requirejs.config({\n",
       "            paths: {\n",
       "                'plotly': ['https://cdn.plot.ly/plotly-latest.min']\n",
       "            }\n",
       "        });\n",
       "        require(['plotly'], function(Plotly) {\n",
       "            window._Plotly = Plotly;\n",
       "        });\n",
       "        }\n",
       "        </script>\n",
       "        "
      ]
     },
     "metadata": {},
     "output_type": "display_data"
    },
    {
     "data": {
      "application/vnd.jupyter.widget-view+json": {
       "model_id": "4e69854851dc4051bf7e841a834d25af",
       "version_major": 2,
       "version_minor": 0
      },
      "text/plain": [
       "interactive(children=(DatePicker(value=Timestamp('2019-01-01 00:00:00'), description='start_date'), DatePicker…"
      ]
     },
     "metadata": {},
     "output_type": "display_data"
    }
   ],
   "source": [
    "import scipy\n",
    "import chart_studio.plotly as py\n",
    "import plotly.graph_objs as go\n",
    "from plotly.offline import iplot, init_notebook_mode\n",
    "init_notebook_mode(connected=True)\n",
    "\n",
    "\n",
    "import cufflinks as cf\n",
    "cf.go_offline(connected=True)\n",
    "cf.set_config_file(colorscale='plotly', world_readable=True)\n",
    "\n",
    "# Extra options\n",
    "pd.options.display.max_rows = 30\n",
    "pd.options.display.max_columns = 25\n",
    "\n",
    "# Show all code cells outputs\n",
    "from IPython.core.interactiveshell import InteractiveShell\n",
    "InteractiveShell.ast_node_interactivity = 'all'\n",
    "def print_articles_published(start_date, end_date):\n",
    "    start_date = pd.Timestamp(start_date)\n",
    "    end_date = pd.Timestamp(end_date)\n",
    "    stat_df = df.loc[(df.index >= start_date) & (df.index <= end_date)].copy()\n",
    "    total_ppl = stat_df['Number of Pedestrians'].sum()\n",
    "    \n",
    "    num= len(stat_df)\n",
    "    print(f'There were {num} pedestrians between {start_date.date()} and {end_date.date()}.')\n",
    "    \n",
    "_ = interact(print_articles_published,\n",
    "             start_date=widgets.DatePicker(value=pd.to_datetime('2019-01-01')),\n",
    "             end_date=widgets.DatePicker(value=pd.to_datetime('2020-01-01')))"
   ]
  },
  {
   "cell_type": "code",
   "execution_count": 8,
   "metadata": {},
   "outputs": [
    {
     "data": {
      "application/vnd.jupyter.widget-view+json": {
       "model_id": "1861a53f5a3b439ba7d3b0e7f49f54af",
       "version_major": 2,
       "version_minor": 0
      },
      "text/plain": [
       "interactive(children=(Dropdown(description='column', options=('Number of Pedestrians', 'Bikes', 'Cars', 'Total…"
      ]
     },
     "metadata": {},
     "output_type": "display_data"
    }
   ],
   "source": [
    "\n",
    "def plot_up_to(column, start_date, end_date):\n",
    "    start_date = pd.Timestamp(start_date)\n",
    "    end_date = pd.Timestamp(end_date)\n",
    "    \n",
    "    plot_df = df.loc[(df.index >= start_date) & (df.index <= end_date)].copy()\n",
    "    plot_df[column].iplot(mode='lines',\n",
    "                                   xTitle='Date',\n",
    "                                   yTitle=column, \n",
    "                                  title=f'{column.title()}  between {start_date.date()} and {end_date.date()}.')\n",
    "    \n",
    "_ = interact(plot_up_to, column=widgets.Dropdown(options=list(df.select_dtypes('number').columns), value = 'Number of Pedestrians'), \n",
    "             start_date=widgets.DatePicker(value=pd.to_datetime('2019-01-01')),\n",
    "             end_date=widgets.DatePicker(value=pd.to_datetime('2020-01-01')))"
   ]
  },
  {
   "cell_type": "code",
   "execution_count": 9,
   "metadata": {},
   "outputs": [
    {
     "data": {
      "application/vnd.jupyter.widget-view+json": {
       "model_id": "0a42845b5ed34da994998bcbdfe172a5",
       "version_major": 2,
       "version_minor": 0
      },
      "text/plain": [
       "interactive(children=(Dropdown(description='column', options=('Number of Pedestrians', 'Bikes', 'Cars', 'Total…"
      ]
     },
     "metadata": {},
     "output_type": "display_data"
    }
   ],
   "source": [
    "import seaborn as sns\n",
    "order = [\"Monday\", \"Tuesday\", \"Wednesday\", \"Thursday\", \"Friday\", \"Saturday\", \"Sunday\"]\n",
    "def plot_week_days(column, start_date, end_date):\n",
    "    start_date = pd.Timestamp(start_date)\n",
    "    end_date = pd.Timestamp(end_date)\n",
    "    \n",
    "    plot_df = df.loc[(df.index >= start_date) & (df.index <= end_date)].copy()\n",
    "    sns.barplot(x=\"Day of Week\", y=column, data= df.groupby(['Day of Week'])[column].mean().reset_index(), order = order)\n",
    "    \n",
    "_ = interact(plot_week_days, column=widgets.Dropdown(options=list(df.select_dtypes('number').columns)), \n",
    "             start_date=widgets.DatePicker(value=pd.to_datetime('2019-01-01')),\n",
    "             end_date=widgets.DatePicker(value=pd.to_datetime('2020-01-01')))\n",
    "\n"
   ]
  },
  {
   "cell_type": "code",
   "execution_count": null,
   "metadata": {},
   "outputs": [],
   "source": []
  }
 ],
 "metadata": {
  "kernelspec": {
   "display_name": "Python 3",
   "language": "python",
   "name": "python3"
  },
  "language_info": {
   "codemirror_mode": {
    "name": "ipython",
    "version": 3
   },
   "file_extension": ".py",
   "mimetype": "text/x-python",
   "name": "python",
   "nbconvert_exporter": "python",
   "pygments_lexer": "ipython3",
   "version": "3.7.4"
  }
 },
 "nbformat": 4,
 "nbformat_minor": 4
}
