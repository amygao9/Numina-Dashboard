{
 "cells": [
  {
   "cell_type": "markdown",
   "metadata": {},
   "source": [
    "## Q3 ~ Amy"
   ]
  },
  {
   "cell_type": "code",
   "execution_count": 16,
   "metadata": {
    "slideshow": {
     "slide_type": "skip"
    }
   },
   "outputs": [
    {
     "data": {
      "text/html": [
       "        <script type=\"text/javascript\">\n",
       "        window.PlotlyConfig = {MathJaxConfig: 'local'};\n",
       "        if (window.MathJax) {MathJax.Hub.Config({SVG: {font: \"STIX-Web\"}});}\n",
       "        if (typeof require !== 'undefined') {\n",
       "        require.undef(\"plotly\");\n",
       "        requirejs.config({\n",
       "            paths: {\n",
       "                'plotly': ['https://cdn.plot.ly/plotly-latest.min']\n",
       "            }\n",
       "        });\n",
       "        require(['plotly'], function(Plotly) {\n",
       "            window._Plotly = Plotly;\n",
       "        });\n",
       "        }\n",
       "        </script>\n",
       "        "
      ]
     },
     "metadata": {},
     "output_type": "display_data"
    },
    {
     "data": {
      "text/html": [
       "        <script type=\"text/javascript\">\n",
       "        window.PlotlyConfig = {MathJaxConfig: 'local'};\n",
       "        if (window.MathJax) {MathJax.Hub.Config({SVG: {font: \"STIX-Web\"}});}\n",
       "        if (typeof require !== 'undefined') {\n",
       "        require.undef(\"plotly\");\n",
       "        requirejs.config({\n",
       "            paths: {\n",
       "                'plotly': ['https://cdn.plot.ly/plotly-latest.min']\n",
       "            }\n",
       "        });\n",
       "        require(['plotly'], function(Plotly) {\n",
       "            window._Plotly = Plotly;\n",
       "        });\n",
       "        }\n",
       "        </script>\n",
       "        "
      ]
     },
     "metadata": {},
     "output_type": "display_data"
    }
   ],
   "source": [
    "\n",
    "from __future__ import print_function\n",
    "from ipywidgets import interact, interactive, fixed, interact_manual\n",
    "import ipywidgets as widgets\n",
    "import json\n",
    "import pandas as pd\n",
    "\n",
    "import plotly.graph_objects as go\n",
    "from datetime import datetime, timedelta\n",
    "import time\n",
    "import numpy as np\n",
    "\n",
    "import scipy\n",
    "import chart_studio.plotly as py\n",
    "import plotly.graph_objs as go\n",
    "from plotly.offline import iplot, init_notebook_mode\n",
    "init_notebook_mode(connected=True)\n",
    "import matplotlib as plt\n",
    "\n",
    "import cufflinks as cf\n",
    "cf.go_offline(connected=True)\n",
    "cf.set_config_file(colorscale='plotly', world_readable=True)\n",
    "\n",
    "# store login data in login.py\n",
    "%run login.py\n",
    "\n",
    "loginquery = f\"\"\"\n",
    "mutation {{\n",
    "  logIn(\n",
    "      email:\\\"{login}\\\",\n",
    "      password:\\\"{pwd}\\\") {{\n",
    "    jwt {{\n",
    "      token\n",
    "      exp\n",
    "    }}\n",
    "  }}\n",
    "}}\n",
    "\"\"\"\n",
    "import requests\n",
    "url = 'https://api.numina.co/graphql'\n",
    "\n",
    "mylogin = requests.post(url, json={'query': loginquery})\n",
    "token = mylogin.json()['data']['logIn']['jwt']['token']\n",
    "expdate = mylogin.json()['data']['logIn']['jwt']['exp']"
   ]
  },
  {
   "cell_type": "code",
   "execution_count": 2,
   "metadata": {
    "slideshow": {
     "slide_type": "skip"
    }
   },
   "outputs": [],
   "source": [
    "query2 = \"\"\"\n",
    "query {\n",
    "  feedCountMetrics(\n",
    "    serialnos:[\"SWLSANDBOX3\", \"SWLSANDBOX1\", \"SWLSANDBOX2\"],\n",
    "    startTime:\"2018-01-01T00:00:00\",\n",
    "    endTime:\"2019-12-31T00:00:00\",\n",
    "    objClasses:[\"pedestrian\"],\n",
    "    timezone:\"America/New_York\",\n",
    "    interval:\"24h\") {\n",
    "    edges {\n",
    "      node {\n",
    "        serialno\n",
    "        result\n",
    "        objClass\n",
    "        time\n",
    "      }\n",
    "    }\n",
    "  }\n",
    "}\n",
    "\"\"\"\n",
    "\n",
    "peds = requests.post(url, json={'query': query2}, headers = {'Authorization':token})\n",
    "\n",
    "\n",
    "p = peds.json()['data']['feedCountMetrics']['edges']\n",
    "query1 = \"\"\"\n",
    "query {\n",
    "  feedCountMetrics(\n",
    "    serialnos:[\"SWLSANDBOX3\", \"SWLSANDBOX1\", \"SWLSANDBOX2\"],\n",
    "    startTime:\"2018-01-01T00:00:00\",\n",
    "    endTime:\"2019-12-31T00:00:00\",\n",
    "    objClasses:[\"bicycle\"],\n",
    "    timezone:\"America/New_York\",\n",
    "    interval:\"24h\") {\n",
    "    edges {\n",
    "      node {\n",
    "        serialno\n",
    "        result\n",
    "        objClass\n",
    "        time\n",
    "      }\n",
    "    }\n",
    "  }\n",
    "}\n",
    "\"\"\"\n",
    "bikes = requests.post(url, json={'query': query1}, headers = {'Authorization':token})\n",
    "\n",
    "b = bikes.json()['data']['feedCountMetrics']['edges']\n",
    "\n",
    "query3 = \"\"\"\n",
    "query {\n",
    "  feedCountMetrics(\n",
    "    serialnos:[\"SWLSANDBOX3\", \"SWLSANDBOX1\", \"SWLSANDBOX2\"],\n",
    "    startTime:\"2018-01-01T00:00:00\",\n",
    "    endTime:\"2019-12-31T00:00:00\",\n",
    "    objClasses:[\"car\"],\n",
    "    timezone:\"America/New_York\",\n",
    "    interval:\"24h\") {\n",
    "    edges {\n",
    "      node {\n",
    "        serialno\n",
    "        result\n",
    "        objClass\n",
    "        time\n",
    "      }\n",
    "    }\n",
    "  }\n",
    "}\n",
    "\"\"\"\n",
    "cars = requests.post(url, json={'query': query3}, headers = {'Authorization':token})\n",
    "\n",
    "c = cars.json()['data']['feedCountMetrics']['edges']"
   ]
  },
  {
   "cell_type": "code",
   "execution_count": 3,
   "metadata": {},
   "outputs": [],
   "source": [
    "# count 500 hrs when there is a pedestrian passing by\n",
    "query2 = \"\"\"\n",
    "query {\n",
    "  feedCountMetrics(\n",
    "    serialnos:[\"SWLSANDBOX3\", \"SWLSANDBOX1\", \"SWLSANDBOX2\"],\n",
    "    startTime:\"2018-01-01T00:00:00\",\n",
    "    endTime:\"2019-12-31T00:00:00\",\n",
    "    objClasses:[\"pedestrian\"],\n",
    "    timezone:\"America/New_York\",\n",
    "    interval:\"1h\") {\n",
    "    edges {\n",
    "      node {\n",
    "        serialno\n",
    "        result\n",
    "        objClass\n",
    "        time\n",
    "      }\n",
    "    }\n",
    "  }\n",
    "}\n",
    "\"\"\"\n",
    "\n",
    "pe = requests.post(url, json={'query': query2}, headers = {'Authorization':token})\n",
    "\n",
    "\n",
    "ph = pe.json()['data']['feedCountMetrics']['edges']\n",
    "query1 = \"\"\"\n",
    "query {\n",
    "  feedCountMetrics(\n",
    "    serialnos:[\"SWLSANDBOX3\", \"SWLSANDBOX1\", \"SWLSANDBOX2\"],\n",
    "    startTime:\"2018-01-01T00:00:00\",\n",
    "    endTime:\"2019-12-31T00:00:00\",\n",
    "    objClasses:[\"bicycle\"],\n",
    "    timezone:\"America/New_York\",\n",
    "    interval:\"1h\") {\n",
    "    edges {\n",
    "      node {\n",
    "        serialno\n",
    "        result\n",
    "        objClass\n",
    "        time\n",
    "      }\n",
    "    }\n",
    "  }\n",
    "}\n",
    "\"\"\"\n",
    "bikesh = requests.post(url, json={'query': query1}, headers = {'Authorization':token})\n",
    "\n",
    "bh = bikesh.json()['data']['feedCountMetrics']['edges']\n",
    "\n",
    "query3 = \"\"\"\n",
    "query {\n",
    "  feedCountMetrics(\n",
    "    serialnos:[\"SWLSANDBOX3\", \"SWLSANDBOX1\", \"SWLSANDBOX2\"],\n",
    "    startTime:\"2018-01-01T00:00:00\",\n",
    "    endTime:\"2019-12-31T00:00:00\",\n",
    "    objClasses:[\"car\"],\n",
    "    timezone:\"America/New_York\",\n",
    "    interval:\"1h\") {\n",
    "    edges {\n",
    "      node {\n",
    "        serialno\n",
    "        result\n",
    "        objClass\n",
    "        time\n",
    "      }\n",
    "    }\n",
    "  }\n",
    "}\n",
    "\"\"\"\n",
    "carsh = requests.post(url, json={'query': query3}, headers = {'Authorization':token})\n",
    "\n",
    "ch = carsh.json()['data']['feedCountMetrics']['edges']"
   ]
  },
  {
   "cell_type": "code",
   "execution_count": 4,
   "metadata": {
    "slideshow": {
     "slide_type": "skip"
    }
   },
   "outputs": [],
   "source": [
    "query0 = \"\"\"\n",
    "query {\n",
    "  devices {\n",
    "    count\n",
    "    edges {\n",
    "      node {\n",
    "        rawId\n",
    "        name\n",
    "        serialno\n",
    "      }\n",
    "    }\n",
    "  }\n",
    "}\n",
    "\"\"\"\n",
    "s = requests.post(url, json={'query': query0}, headers = {'Authorization':token})\n",
    "\n"
   ]
  },
  {
   "cell_type": "code",
   "execution_count": 5,
   "metadata": {
    "slideshow": {
     "slide_type": "skip"
    }
   },
   "outputs": [],
   "source": [
    "from datetime import datetime\n",
    "\n",
    "\n",
    "def create_df(sensor):\n",
    "    if sensor == 'Streetscape':\n",
    "        s = 'SWLSANDBOX1'\n",
    "    if sensor == 'Outside':\n",
    "        s = 'SWLSANDBOX3'\n",
    "    if sensor == 'UnderRaincoat':\n",
    "        s = s = 'SWLSANDBOX2'\n",
    "    df = pd.DataFrame(columns = ['Date', 'Number of Pedestrians', \"Day of Week\", 'Bikes', 'Cars', 'Total'])\n",
    "    for node in p:\n",
    "        if node['node']['serialno'] == s:\n",
    "            date = datetime.strptime(node['node']['time'][:10], '%Y-%m-%d')\n",
    "            df = df.append({'Date': date, 'Number of Pedestrians': node['node']['result'], \"Day of Week\" : date.strftime('%A')}, ignore_index=True)\n",
    "    df.set_index('Date', inplace=True)\n",
    "\n",
    "    for node in b:\n",
    "        if node['node']['serialno'] == s:\n",
    "            date = datetime.strptime(node['node']['time'][:10], '%Y-%m-%d')\n",
    "            df['Bikes'][date] = node['node']['result']\n",
    "\n",
    "    for node in c:\n",
    "        if node['node']['serialno'] == s:\n",
    "            date = datetime.strptime(node['node']['time'][:10], '%Y-%m-%d')\n",
    "            df['Cars'][date] = node['node']['result']\n",
    "\n",
    "\n",
    "    df['Total'] = df['Number of Pedestrians'] + df['Cars'] + df['Bikes']\n",
    "    df[['Total', 'Number of Pedestrians', 'Bikes', 'Cars']] = df[['Total', 'Number of Pedestrians', 'Bikes', 'Cars']].astype('int32')\n",
    "    \n",
    "    \n",
    "    return df\n",
    "\n",
    "\n",
    "# Outside = pd.DataFrame(columns = ['Date', 'Number of Pedestrians', \"Day of Week\", 'Bikes', 'Cars', 'Total'])\n",
    "# UnderRaincoat = pd.DataFrame(columns = ['Date', 'Number of Pedestrians', \"Day of Week\", 'Bikes', 'Cars', 'Total'])\n",
    "street_df = create_df('Streetscape')\n",
    "outside_df = create_df('Outside')\n",
    "raincoat_df = create_df('UnderRaincoat')\n"
   ]
  },
  {
   "cell_type": "code",
   "execution_count": 6,
   "metadata": {
    "slideshow": {
     "slide_type": "slide"
    }
   },
   "outputs": [
    {
     "data": {
      "application/vnd.jupyter.widget-view+json": {
       "model_id": "09a2571b009e4f1db0925f85282c4f0f",
       "version_major": 2,
       "version_minor": 0
      },
      "text/plain": [
       "interactive(children=(Dropdown(description='column', options=('Number of Pedestrians', 'Total', 'Bikes', 'Cars…"
      ]
     },
     "metadata": {},
     "output_type": "display_data"
    }
   ],
   "source": [
    "\n",
    "def plot_up_to(column, start_date, end_date, device):\n",
    "    \n",
    "    if device == 'Streetscape':\n",
    "        df = street_df\n",
    "    if device == 'Outside':\n",
    "        df = outside_df\n",
    "    if device == 'UnderRaincoat':\n",
    "        df = raincoat_df\n",
    "    \n",
    "  \n",
    "    start_date = pd.Timestamp(start_date)\n",
    "    end_date = pd.Timestamp(end_date)\n",
    "    \n",
    "    plot_df = df.loc[(df.index >= start_date) & (df.index <= end_date)].copy()\n",
    "    plot_df[column].iplot(mode='lines',\n",
    "                                   xTitle='Date',\n",
    "                                   yTitle=column, \n",
    "                                  title=f'{column.title()}  between {start_date.date()} and {end_date.date()}.')\n",
    "    \n",
    "_ = interact(plot_up_to, column=widgets.Dropdown(options=['Number of Pedestrians', 'Total', 'Bikes', 'Cars'], value = 'Number of Pedestrians'), \n",
    "             start_date=widgets.DatePicker(value=pd.to_datetime('2019-01-01')),\n",
    "             end_date=widgets.DatePicker(value=pd.to_datetime('2020-01-01')),\n",
    "            device = widgets.Dropdown(options=list(devices.keys())))"
   ]
  },
  {
   "cell_type": "code",
   "execution_count": 7,
   "metadata": {
    "slideshow": {
     "slide_type": "skip"
    }
   },
   "outputs": [],
   "source": [
    "def remove_outliers(df):\n",
    "    testing_df = df.drop(df[df.Total == 0].index)\n",
    "    q1 = testing_df['Total'].quantile(0.10)\n",
    "    q3 = testing_df['Total'].quantile(0.90)\n",
    "\n",
    "    interquartile_range = q3 - q1\n",
    "\n",
    "    df = df[~((df['Total'] < (q1)) \\\n",
    "             |(df['Total'] > (q3)))]\n",
    "    return df\n",
    "\n",
    "cleaned_s = remove_outliers(street_df)\n",
    "cleaned_o = remove_outliers(outside_df)\n",
    "cleaned_r = remove_outliers(raincoat_df)"
   ]
  },
  {
   "cell_type": "code",
   "execution_count": 24,
   "metadata": {
    "slideshow": {
     "slide_type": "slide"
    }
   },
   "outputs": [
    {
     "data": {
      "application/vnd.jupyter.widget-view+json": {
       "model_id": "c0d9205b43fa4e82a0e547405c0474ec",
       "version_major": 2,
       "version_minor": 0
      },
      "text/plain": [
       "interactive(children=(Dropdown(description='column', options=('Number of Pedestrians', 'Total', 'Bikes', 'Cars…"
      ]
     },
     "metadata": {},
     "output_type": "display_data"
    }
   ],
   "source": [
    "import seaborn as sns\n",
    "order = [\"Monday\", \"Tuesday\", \"Wednesday\", \"Thursday\", \"Friday\", \"Saturday\", \"Sunday\"]\n",
    "def plot_week_days(column, start_date, end_date, device):\n",
    "    if device == 'Streetscape':\n",
    "        df = cleaned_s\n",
    "    if device == 'Outside':\n",
    "        df = cleaned_o\n",
    "    if device == 'UnderRaincoat':\n",
    "        df = cleaned_r\n",
    "        \n",
    "    start_date = pd.Timestamp(start_date)\n",
    "    end_date = pd.Timestamp(end_date)\n",
    "    \n",
    "    plot_df = df.loc[(df.index >= start_date) & (df.index <= end_date)].copy()\n",
    "    ax = sns.barplot(x=\"Day of Week\", y=column, data= plot_df.groupby(['Day of Week'])[column].mean().reset_index(), order = order, palette = 'muted')\n",
    "    ax.set_title(f'Mean Counts for {column.title()} by Weekday Without Outliers')\n",
    "    \n",
    "_ = interact(plot_week_days, column=widgets.Dropdown(options=['Number of Pedestrians', 'Total', 'Bikes', 'Cars']), \n",
    "             start_date=widgets.DatePicker(value=pd.to_datetime('2019-01-01')),\n",
    "             end_date=widgets.DatePicker(value=pd.to_datetime('2020-01-01')),\n",
    "            device = widgets.Dropdown(options=list(devices.keys())))\n",
    "\n"
   ]
  },
  {
   "cell_type": "code",
   "execution_count": 9,
   "metadata": {},
   "outputs": [],
   "source": [
    "from datetime import datetime\n",
    "\n",
    "\n",
    "def create_hourly_df(sensor):\n",
    "    hourly = pd.DataFrame(columns = ['Date', 'Number of Pedestrians', \"Day of Week\", 'Bikes', 'Cars'])\n",
    "    for node in ph:\n",
    "        if node['node']['serialno'] == sensor:\n",
    "            date = node['node']['time'][:10]\n",
    "            hr = node['node']['time'][11:16]\n",
    "            time = date +' '+ hr\n",
    "            date = datetime.strptime(time, '%Y-%m-%d %H:%M')\n",
    "            hourly = hourly.append({'Date': date, 'Number of Pedestrians': node['node']['result'], \"Day of Week\" : date.strftime('%A')}, ignore_index=True)\n",
    "    hourly.set_index('Date', inplace=True)\n",
    "\n",
    "    for node in bh:\n",
    "        if node['node']['serialno'] == sensor:\n",
    "            date = node['node']['time'][:10]\n",
    "            hr = node['node']['time'][11:16]\n",
    "            time = date +' '+ hr\n",
    "            date = datetime.strptime(time, '%Y-%m-%d %H:%M')\n",
    "            hourly['Bikes'][date] = node['node']['result']\n",
    "\n",
    "    for node in ch:\n",
    "        if node['node']['serialno'] == sensor:\n",
    "            date = node['node']['time'][:10]\n",
    "            hr = node['node']['time'][11:16]\n",
    "            time = date +' '+ hr\n",
    "            date = datetime.strptime(time, '%Y-%m-%d %H:%M')\n",
    "            hourly['Cars'][date] = node['node']['result']\n",
    "\n",
    "\n",
    "    hourly['Total'] = hourly['Number of Pedestrians'] + hourly['Cars'] + hourly['Bikes']\n",
    "    hourly[['Total', 'Number of Pedestrians', 'Bikes', 'Cars']] = hourly[['Total', 'Number of Pedestrians', 'Bikes', 'Cars']].astype('int32')\n",
    "    hourly['Hour'] = hourly.index.time\n",
    "    return hourly\n",
    "\n",
    "street_hourly = create_hourly_df('SWLSANDBOX1')\n",
    "outside_hourly = create_hourly_df('SWLSANDBOX3')\n",
    "raincoat_hourly = create_hourly_df('SWLSANDBOX2')"
   ]
  },
  {
   "cell_type": "code",
   "execution_count": 10,
   "metadata": {
    "slideshow": {
     "slide_type": "slide"
    }
   },
   "outputs": [],
   "source": [
    "import plotly.graph_objects as go\n",
    "from datetime import datetime, timedelta\n",
    "\n",
    "def plot_maintenance(column, start_date, end_date, device, dates):\n",
    "    if device == 'Streetscape':\n",
    "        df = street_df\n",
    "    if device == 'Outside':\n",
    "        df = outside_df\n",
    "    if device == 'UnderRaincoat':\n",
    "        df = raincoat_df\n",
    "    start_date = pd.Timestamp(start_date)\n",
    "    end_date = pd.Timestamp(end_date)\n",
    "    \n",
    "    plot_df = df.loc[(df.index >= start_date) & (df.index <= end_date)].copy()\n",
    "#     fig = go.Figure()\n",
    "\n",
    "#     # Add scatter trace for line\n",
    "#     fig.add_trace(go.Scatter(\n",
    "#         x=plot_df.index,\n",
    "#         y=plot_df.Total,\n",
    "#         mode=\"lines\",\n",
    "#         name=\"Total Objects\"\n",
    "#     ))\n",
    "#     shapes = list()\n",
    "#     for date in dates:\n",
    "#             shapes.append(\n",
    "#                 dict(\n",
    "#                 type=\"rect\",\n",
    "#                 # x-reference is assigned to the x-values\n",
    "#                 xref=\"x\",\n",
    "#                 # y-reference is assigned to the plot paper [0,1]\n",
    "#                 yref=\"paper\",\n",
    "#                 x0=date,\n",
    "#                 y0=0,\n",
    "#                 x1= date + timedelta(hours=9),\n",
    "#                 y1=1,\n",
    "#                 fillcolor=\"Red\",\n",
    "#                 opacity=0.5,\n",
    "#                 layer=\"above\",\n",
    "#                 line_width=0,\n",
    "#             ))   \n",
    "#     # Add shape regions\n",
    "    \n",
    "    fig.update_layout(\n",
    "        shapes = shapes,\n",
    "        title=f'Maintenance schedule for {column.title()}  between {start_date.date()} and {end_date.date()}.',\n",
    "        xaxis_title=\"Date\",\n",
    "        yaxis_title=column,\n",
    "    )\n",
    "    iplot(fig)\n",
    "    \n",
    "# _ = interact(plot_maintenance, column= 'Total', \n",
    "#              start_date=widgets.DatePicker(value=pd.to_datetime('2019-01-01')),\n",
    "#              end_date=widgets.DatePicker(value=pd.to_datetime('2020-01-01')),\n",
    "#             device = widgets.Dropdown(options=list(devices.keys())))"
   ]
  },
  {
   "cell_type": "code",
   "execution_count": 27,
   "metadata": {},
   "outputs": [
    {
     "data": {
      "application/vnd.jupyter.widget-view+json": {
       "model_id": "40616dbe545f4fa59fcd175a43c468a1",
       "version_major": 2,
       "version_minor": 0
      },
      "text/plain": [
       "interactive(children=(IntSlider(value=1000, description='hours', max=2000, step=10), Dropdown(description='dev…"
      ]
     },
     "metadata": {},
     "output_type": "display_data"
    }
   ],
   "source": [
    "def next_weekday(d, weekday):\n",
    "    days_ahead = weekday - d.weekday()\n",
    "    if days_ahead <= 0: # Target day already happened this week\n",
    "        days_ahead += 7\n",
    "    return d + timedelta(days_ahead)\n",
    "\n",
    "def get_maintenance(hours, device, day, start_date, end_date):\n",
    "    saved_dates = []\n",
    "    if device == 'Streetscape':\n",
    "        df = street_hourly\n",
    "    if device == 'Outside':\n",
    "        df = outside_hourly\n",
    "    if device == 'UnderRaincoat':\n",
    "        df = raincoat_hourly\n",
    "        \n",
    "    start_date = pd.Timestamp(start_date)\n",
    "    end_date = pd.Timestamp(end_date)\n",
    "    \n",
    "    plot_df = df.loc[(df.index >= start_date) & (df.index <= end_date)].copy()\n",
    "    \n",
    "    dates = []\n",
    "    count = 0\n",
    "    for index, row in plot_df.iterrows():\n",
    "        if row['Total'] > 0 & row['Total'] < hours:\n",
    "            count += 1\n",
    "        if row['Total'] >= hours/2:\n",
    "            count += row['Total']\n",
    "        if count >= hours:\n",
    "            if day == \"Any\":\n",
    "                d = index + timedelta(days=1)\n",
    "            else:\n",
    "                d = next_weekday(index, time.strptime(day, \"%A\").tm_wday)\n",
    "            d = d.replace(hour=16, minute=0, second=0)\n",
    "            saved_dates.append(d)\n",
    "            count = 0\n",
    "    dates = pd.Series(saved_dates) \n",
    "    dates = dates.rename(\"Maintenance Dates\")\n",
    "    dates.drop_duplicates(keep='first', inplace=True)\n",
    "    dates.to_list()\n",
    "    plot_maintenance('Total', start_date, end_date, device, dates)\n",
    "    dates = dates.to_frame()\n",
    "    \n",
    "    dates=dates.reset_index(drop = True)\n",
    "    dates.to_csv('maintenance.txt', sep=' ', index=False)\n",
    "\n",
    "\n",
    "# st_maintenance = get_maintenance(street_hourly, 500)\n",
    "a = interact_manual(get_maintenance, hours = (0,2000,10),\n",
    "             start_date=widgets.DatePicker(value=pd.to_datetime('2019-01-01')),\n",
    "             end_date=widgets.DatePicker(value=pd.to_datetime('2020-01-01')),\n",
    "            device = widgets.Dropdown(options=list(devices.keys())),\n",
    "            day = widgets.Dropdown(options=[\"Monday\", \"Tuesday\", \"Wednesday\", \"Thursday\", \"Friday\", \"Saturday\", \"Sunday\", \"Any\"], value = \"Saturday\"))\n"
   ]
  },
  {
   "cell_type": "code",
   "execution_count": 12,
   "metadata": {},
   "outputs": [
    {
     "data": {
      "application/vnd.jupyter.widget-view+json": {
       "model_id": "d6fa152afce2412e9df2481f6ef890e3",
       "version_major": 2,
       "version_minor": 0
      },
      "text/plain": [
       "interactive(children=(Dropdown(description='column', options=('Number of Pedestrians', 'Total', 'Bikes', 'Cars…"
      ]
     },
     "metadata": {},
     "output_type": "display_data"
    }
   ],
   "source": [
    "import seaborn as sns\n",
    "\n",
    "def plot_day_times(column, start_date, end_date, device):\n",
    "    if device == 'Streetscape':\n",
    "        df = street_hourly\n",
    "    if device == 'Outside':\n",
    "        df = outside_hourly\n",
    "    if device == 'UnderRaincoat':\n",
    "        df = raincoat_hourly\n",
    "        \n",
    "    start_date = pd.Timestamp(start_date)\n",
    "    end_date = pd.Timestamp(end_date)\n",
    "    \n",
    "    plot_df = df.loc[(df.index >= start_date) & (df.index <= end_date)].copy()\n",
    "    \n",
    "    plot_df[\"Hour\"] = plot_df[\"Hour\"].astype(str)\n",
    "    plot_df[\"Hour\"] = plot_df[\"Hour\"].str.slice(0, 2, 1) \n",
    "    hour_df = pd.DataFrame()\n",
    "    hour_df[column] = plot_df.groupby('Hour')[column].mean()\n",
    "    ax = sns.barplot(x = hour_df.index, y=column, data= hour_df, color=\"skyblue\")\n",
    "    \n",
    "    for ind, label in enumerate(ax.get_xticklabels()):\n",
    "        if ind % 5 == 0:  # every 10th label is kept\n",
    "            label.set_visible(True)\n",
    "        else:\n",
    "            label.set_visible(False)\n",
    "    ax.set_title(f'Mean Counts for {column.title()} by Hour')\n",
    "   \n",
    "_ = interact(plot_day_times, column=widgets.Dropdown(options=['Number of Pedestrians', 'Total', 'Bikes', 'Cars']), \n",
    "             start_date=widgets.DatePicker(value=pd.to_datetime('2019-01-01')),\n",
    "             end_date=widgets.DatePicker(value=pd.to_datetime('2020-01-01')),\n",
    "            device = widgets.Dropdown(options=list(devices.keys())))\n"
   ]
  },
  {
   "cell_type": "code",
   "execution_count": 13,
   "metadata": {},
   "outputs": [],
   "source": [
    "import numpy as np\n",
    "df = street_df\n",
    "df['Quarter'] = df.index.month\n",
    "df['Quarter'] = np.ceil(df['Quarter']/3).astype(int)\n",
    "cleaned_s['Quarter']= df['Quarter']"
   ]
  },
  {
   "cell_type": "code",
   "execution_count": 14,
   "metadata": {
    "slideshow": {
     "slide_type": "slide"
    }
   },
   "outputs": [
    {
     "data": {
      "image/png": "[encoded data removed]",
      "text/plain": [
       "<Figure size 1080x1080 with 4 Axes>"
      ]
     },
     "metadata": {
      "needs_background": "light"
     },
     "output_type": "display_data"
    }
   ],
   "source": [
    "from matplotlib import pyplot as plt\n",
    "fig, axes = plt.subplots(2, 2, figsize=(15, 15))\n",
    "\n",
    "# Flatten the 2D axes array for ease of looping\n",
    "axes = np.array(axes).flatten()\n",
    "\n",
    "# Prepare the month description titles for each quarter\n",
    "quarter_names = ['Jan. - Mar.', 'Apr. - Jun.', 'Jul. - Sept.', 'Oct. - Dec.']\n",
    "order = [\"Monday\", \"Tuesday\", \"Wednesday\", \"Thursday\", \"Friday\", \"Saturday\", \"Sunday\"]\n",
    "for q, ax in zip(sorted(cleaned_s['Quarter'].unique()), axes):\n",
    "    ax.set_title(quarter_names[(q-1)])\n",
    "    \n",
    "    # Set the y-axis range for consistency across the four graphs\n",
    "    ax.set_ylim(0, 2000)\n",
    "    ax.set_ylabel('Average Daily Trips')\n",
    "    \n",
    "    sns.barplot(\n",
    "        x='Day of Week', \n",
    "        y='Total', \n",
    "        data=cleaned_s[cleaned_s['Quarter']==q].groupby('Day of Week')['Total'].mean().reset_index(),\n",
    "        ax=ax,\n",
    "        order = order,\n",
    "        palette=\"pastel\"\n",
    "    )"
   ]
  },
  {
   "cell_type": "code",
   "execution_count": 15,
   "metadata": {},
   "outputs": [
    {
     "name": "stderr",
     "output_type": "stream",
     "text": [
      "/Library/Frameworks/Python.framework/Versions/3.7/lib/python3.7/site-packages/calmap/__init__.py:221: FutureWarning:\n",
      "\n",
      "\n",
      ".ix is deprecated. Please use\n",
      ".loc for label based indexing or\n",
      ".iloc for positional indexing\n",
      "\n",
      "See the documentation here:\n",
      "http://pandas.pydata.org/pandas-docs/stable/user_guide/indexing.html#ix-indexer-is-deprecated\n",
      "\n"
     ]
    },
    {
     "data": {
      "image/png": "[encoded data removed]",
      "text/plain": [
       "<Figure size 432x288 with 1 Axes>"
      ]
     },
     "metadata": {
      "needs_background": "light"
     },
     "output_type": "display_data"
    }
   ],
   "source": [
    "import numpy as np; np.random.seed(sum(map(ord, 'calmap')))\n",
    "import pandas as pd\n",
    "import calmap\n",
    "\n",
    "fig = calmap.yearplot(df['Total'], year=2019)\n"
   ]
  },
  {
   "cell_type": "code",
   "execution_count": 29,
   "metadata": {},
   "outputs": [
    {
     "data": {
      "text/plain": [
       "Day of Week\n",
       "Monday        517.500000\n",
       "Tuesday      1416.545455\n",
       "Wednesday    1428.500000\n",
       "Thursday     1177.888889\n",
       "Friday        977.750000\n",
       "Saturday      592.250000\n",
       "Sunday        578.000000\n",
       "Name: Total, dtype: float64"
      ]
     },
     "execution_count": 29,
     "metadata": {},
     "output_type": "execute_result"
    }
   ],
   "source": [
    "order = [\"Monday\", \"Tuesday\", \"Wednesday\", \"Thursday\", \"Friday\", \"Saturday\", \"Sunday\"]\n",
    "cleaned_s[cleaned_s['Quarter']==q].groupby('Day of Week')['Total'].mean().reindex(order)\n"
   ]
  },
  {
   "cell_type": "code",
   "execution_count": null,
   "metadata": {},
   "outputs": [],
   "source": []
  }
 ],
 "metadata": {
  "celltoolbar": "Slideshow",
  "kernelspec": {
   "display_name": "Python 3",
   "language": "python",
   "name": "python3"
  },
  "language_info": {
   "codemirror_mode": {
    "name": "ipython",
    "version": 3
   },
   "file_extension": ".py",
   "mimetype": "text/x-python",
   "name": "python",
   "nbconvert_exporter": "python",
   "pygments_lexer": "ipython3",
   "version": "3.7.0"
  }
 },
 "nbformat": 4,
 "nbformat_minor": 4
}
