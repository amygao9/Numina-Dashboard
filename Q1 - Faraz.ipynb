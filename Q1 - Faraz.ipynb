{
 "cells": [
  {
   "cell_type": "code",
   "execution_count": 27,
   "metadata": {},
   "outputs": [
    {
     "data": {
      "text/html": [
       "        <script type=\"text/javascript\">\n",
       "        window.PlotlyConfig = {MathJaxConfig: 'local'};\n",
       "        if (window.MathJax) {MathJax.Hub.Config({SVG: {font: \"STIX-Web\"}});}\n",
       "        if (typeof require !== 'undefined') {\n",
       "        require.undef(\"plotly\");\n",
       "        requirejs.config({\n",
       "            paths: {\n",
       "                'plotly': ['https://cdn.plot.ly/plotly-latest.min']\n",
       "            }\n",
       "        });\n",
       "        require(['plotly'], function(Plotly) {\n",
       "            window._Plotly = Plotly;\n",
       "        });\n",
       "        }\n",
       "        </script>\n",
       "        "
      ]
     },
     "metadata": {},
     "output_type": "display_data"
    }
   ],
   "source": [
    "import requests\n",
    "import json\n",
    "\n",
    "# Standard Data Science Helpers\n",
    "import numpy as np\n",
    "import pandas as pd\n",
    "import scipy\n",
    "\n",
    "import plotly as py\n",
    "import plotly.graph_objs as go\n",
    "from plotly.offline import iplot, init_notebook_mode\n",
    "#init_notebook_mode(connected=True)\n",
    "\n",
    "import cufflinks as cf\n",
    "cf.go_offline(connected=True)\n",
    "cf.set_config_file(colorscale='plotly', world_readable=True)\n",
    "\n",
    "# Extra options\n",
    "pd.options.display.max_rows = 30\n",
    "pd.options.display.max_columns = 25\n",
    "\n",
    "# Show all code cells outputs\n",
    "from IPython.core.interactiveshell import InteractiveShell\n",
    "InteractiveShell.ast_node_interactivity = 'all'\n",
    "\n",
    "import os\n",
    "from IPython.display import Image, display, HTML\n",
    "\n",
    "import ipywidgets as widgets\n",
    "from ipywidgets import interact, interact_manual\n",
    "\n",
    "import cv2\n",
    "import matplotlib.pyplot as plt\n",
    "import datetime as dt\n",
    "\n",
    "%run login.py\n",
    "\n",
    "loginquery = f\"\"\"\n",
    "mutation {{\n",
    "  logIn(\n",
    "      email:\\\"{login}\\\",\n",
    "      password:\\\"{pwd}\\\") {{\n",
    "    jwt {{\n",
    "      token\n",
    "      exp\n",
    "    }}\n",
    "  }}\n",
    "}}\n",
    "\"\"\"\n",
    "\n",
    "url = 'https://api.numina.co/graphql'\n",
    "mylogin = requests.post(url, json={'query': loginquery})\n",
    "token = mylogin.json()['data']['logIn']['jwt']['token']\n",
    "\n",
    "devices = {'Streetscape': ('SWLSANDBOX1', 'img/Streetscape.png'), 'Outside': ('SWLSANDBOX3', 'img/Outside.png'),\n",
    "           'UnderRaincoat': ('SWLSANDBOX2', 'img/UnderRaincoat.png')}\n",
    "\n",
    "events = {'City Moments': (dt.datetime(2019, 8, 16, 19), dt.datetime(2019, 8, 17, 2)),\n",
    "         'Open Sidewalk #4': (dt.datetime(2019, 3, 2, 15), dt.datetime(2019, 3, 2, 19)),\n",
    "         'Sidewalk Summer Open House': (dt.datetime(2019, 6, 29, 12), dt.datetime(2019, 6, 29, 18)),\n",
    "         'Startup Open House': (dt.datetime(2019, 9, 26, 16), dt.datetime(2019, 9, 26, 20)),\n",
    "         'Tap:Ex Augmented Opera': (dt.datetime(2019, 11, 20, 18), dt.datetime(2019, 11, 23, 22))}\n",
    "\n",
    "selectedEvent = events['Autonomous Snowplow Competition']"
   ]
  },
  {
   "cell_type": "code",
   "execution_count": 28,
   "metadata": {},
   "outputs": [
    {
     "data": {
      "application/vnd.jupyter.widget-view+json": {
       "model_id": "299e39309ddf4fed8cabb8b0497a8af0",
       "version_major": 2,
       "version_minor": 0
      },
      "text/plain": [
       "interactive(children=(Dropdown(description='event', options=('Autonomous Snowplow Competition', 'City Moments'…"
      ]
     },
     "metadata": {},
     "output_type": "display_data"
    },
    {
     "data": {
      "text/plain": [
       "<function __main__.eventSelector(event)>"
      ]
     },
     "execution_count": 28,
     "metadata": {},
     "output_type": "execute_result"
    }
   ],
   "source": [
    "def eventSelector(event):\n",
    "    global selectedEvent\n",
    "    if event == 'None':\n",
    "        selectedEvent = 'None'\n",
    "    else:\n",
    "        selectedEvent = events[event]\n",
    "\n",
    "eventNames = list(events.keys())\n",
    "eventNames.append('None')\n",
    "\n",
    "interact_manual(eventSelector, event=widgets.Dropdown(options=eventNames))\n"
   ]
  },
  {
   "cell_type": "code",
   "execution_count": 62,
   "metadata": {},
   "outputs": [
    {
     "data": {
      "text/html": [
       "<div>\n",
       "<style scoped>\n",
       "    .dataframe tbody tr th:only-of-type {\n",
       "        vertical-align: middle;\n",
       "    }\n",
       "\n",
       "    .dataframe tbody tr th {\n",
       "        vertical-align: top;\n",
       "    }\n",
       "\n",
       "    .dataframe thead th {\n",
       "        text-align: right;\n",
       "    }\n",
       "</style>\n",
       "<table border=\"1\" class=\"dataframe\">\n",
       "  <thead>\n",
       "    <tr style=\"text-align: right;\">\n",
       "      <th></th>\n",
       "      <th>event</th>\n",
       "      <th>count</th>\n",
       "    </tr>\n",
       "  </thead>\n",
       "  <tbody>\n",
       "    <tr>\n",
       "      <td>0</td>\n",
       "      <td>myevent</td>\n",
       "      <td>5</td>\n",
       "    </tr>\n",
       "  </tbody>\n",
       "</table>\n",
       "</div>"
      ],
      "text/plain": [
       "     event count\n",
       "0  myevent     5"
      ]
     },
     "execution_count": 62,
     "metadata": {},
     "output_type": "execute_result"
    }
   ],
   "source": [
    "eventCounts = pd.DataFrame(columns=['event', 'count'])\n",
    "\n",
    "df2 = pd.DataFrame([['myevent', 5]], columns=['event', 'count'])\n",
    "\n",
    "eventCounts.append(df2)"
   ]
  },
  {
   "cell_type": "code",
   "execution_count": 64,
   "metadata": {},
   "outputs": [
    {
     "data": {
      "text/html": [
       "<div>\n",
       "<style scoped>\n",
       "    .dataframe tbody tr th:only-of-type {\n",
       "        vertical-align: middle;\n",
       "    }\n",
       "\n",
       "    .dataframe tbody tr th {\n",
       "        vertical-align: top;\n",
       "    }\n",
       "\n",
       "    .dataframe thead th {\n",
       "        text-align: right;\n",
       "    }\n",
       "</style>\n",
       "<table border=\"1\" class=\"dataframe\">\n",
       "  <thead>\n",
       "    <tr style=\"text-align: right;\">\n",
       "      <th></th>\n",
       "      <th>event</th>\n",
       "      <th>count</th>\n",
       "    </tr>\n",
       "  </thead>\n",
       "  <tbody>\n",
       "    <tr>\n",
       "      <td>0</td>\n",
       "      <td>Autonomous Snowplow Competition</td>\n",
       "      <td>0.0</td>\n",
       "    </tr>\n",
       "    <tr>\n",
       "      <td>0</td>\n",
       "      <td>City Moments</td>\n",
       "      <td>257.0</td>\n",
       "    </tr>\n",
       "    <tr>\n",
       "      <td>0</td>\n",
       "      <td>Open Sidewalk #1</td>\n",
       "      <td>0.0</td>\n",
       "    </tr>\n",
       "    <tr>\n",
       "      <td>0</td>\n",
       "      <td>Open Sidewalk #2</td>\n",
       "      <td>0.0</td>\n",
       "    </tr>\n",
       "    <tr>\n",
       "      <td>0</td>\n",
       "      <td>Open Sidewalk #3</td>\n",
       "      <td>0.0</td>\n",
       "    </tr>\n",
       "    <tr>\n",
       "      <td>0</td>\n",
       "      <td>Open Sidewalk #4</td>\n",
       "      <td>4975.0</td>\n",
       "    </tr>\n",
       "    <tr>\n",
       "      <td>0</td>\n",
       "      <td>Public Roundtable #3</td>\n",
       "      <td>0.0</td>\n",
       "    </tr>\n",
       "    <tr>\n",
       "      <td>0</td>\n",
       "      <td>Public Talk #3</td>\n",
       "      <td>0.0</td>\n",
       "    </tr>\n",
       "    <tr>\n",
       "      <td>0</td>\n",
       "      <td>Public Talk #4</td>\n",
       "      <td>0.0</td>\n",
       "    </tr>\n",
       "    <tr>\n",
       "      <td>0</td>\n",
       "      <td>Reference Panel #3</td>\n",
       "      <td>0.0</td>\n",
       "    </tr>\n",
       "    <tr>\n",
       "      <td>0</td>\n",
       "      <td>Reference Panel #4</td>\n",
       "      <td>0.0</td>\n",
       "    </tr>\n",
       "    <tr>\n",
       "      <td>0</td>\n",
       "      <td>Reference Panel #6</td>\n",
       "      <td>0.0</td>\n",
       "    </tr>\n",
       "    <tr>\n",
       "      <td>0</td>\n",
       "      <td>Sidewalk Summer Open House</td>\n",
       "      <td>19533.0</td>\n",
       "    </tr>\n",
       "    <tr>\n",
       "      <td>0</td>\n",
       "      <td>Startup Open House</td>\n",
       "      <td>3748.0</td>\n",
       "    </tr>\n",
       "    <tr>\n",
       "      <td>0</td>\n",
       "      <td>Tap:Ex Augmented Opera</td>\n",
       "      <td>8556.0</td>\n",
       "    </tr>\n",
       "  </tbody>\n",
       "</table>\n",
       "</div>"
      ],
      "text/plain": [
       "                             event    count\n",
       "0  Autonomous Snowplow Competition      0.0\n",
       "0                     City Moments    257.0\n",
       "0                 Open Sidewalk #1      0.0\n",
       "0                 Open Sidewalk #2      0.0\n",
       "0                 Open Sidewalk #3      0.0\n",
       "0                 Open Sidewalk #4   4975.0\n",
       "0             Public Roundtable #3      0.0\n",
       "0                   Public Talk #3      0.0\n",
       "0                   Public Talk #4      0.0\n",
       "0               Reference Panel #3      0.0\n",
       "0               Reference Panel #4      0.0\n",
       "0               Reference Panel #6      0.0\n",
       "0       Sidewalk Summer Open House  19533.0\n",
       "0               Startup Open House   3748.0\n",
       "0           Tap:Ex Augmented Opera   8556.0"
      ]
     },
     "execution_count": 64,
     "metadata": {},
     "output_type": "execute_result"
    }
   ],
   "source": [
    "eventCounts = pd.DataFrame(columns=['event', 'count'])\n",
    "\n",
    "for event in events.keys():\n",
    "    startdate = events[event][0]\n",
    "    enddate = events[event][1]\n",
    "    \n",
    "    eventCountsQuery = \"\"\"\n",
    "    query {\n",
    "      feedCountMetrics(\n",
    "        serialnos:[\"SWLSANDBOX1\", \"SWLSANDBOX2\", \"SWLSANDBOX3\"],\n",
    "        startTime:\"%s\",\n",
    "        endTime:\"%s\",\n",
    "        objClasses:[\"pedestrian\"],\n",
    "        timezone:\"America/New_York\",\n",
    "        interval:\"24h\") {\n",
    "        edges {\n",
    "          node {\n",
    "            serialno\n",
    "            result\n",
    "            objClass\n",
    "            time\n",
    "          }\n",
    "        }\n",
    "      }\n",
    "    }\n",
    "    \"\"\" % (startdate.strftime(\"%Y-%m-%dT%H:00:00\"), enddate.strftime(\"%Y-%m-%dT%H:00:00\"))\n",
    "    \n",
    "    response = requests.post(url, json={'query': eventCountsQuery}, headers = {'Authorization':token}).json()\n",
    "\n",
    "    count = 0\n",
    "    for edge in response['data']['feedCountMetrics']['edges']:\n",
    "        count = count + edge['node']['result']\n",
    "    \n",
    "    this_event = pd.DataFrame([[event, count]], columns=['event', 'count'])\n",
    "    eventCounts = eventCounts.append(this_event)\n",
    "    \n",
    "eventCounts\n",
    "    "
   ]
  },
  {
   "cell_type": "code",
   "execution_count": 2,
   "metadata": {},
   "outputs": [],
   "source": [
    "def getHeatmapImage(device, startdate, enddate):\n",
    "    try:\n",
    "        serial = devices[device][0]\n",
    "    except KeyError:\n",
    "        raise Exception('Invalid device name.')\n",
    "    \n",
    "    query = \"\"\"\n",
    "    query {\n",
    "      feedHeatmaps(\n",
    "        serialno: \"%s\",\n",
    "        startTime:\"%s\",\n",
    "        endTime:\"%s\",\n",
    "        objClasses:[\"pedestrian\"],\n",
    "        timezone:\"America/New_York\") {\n",
    "        edges {\n",
    "          node {\n",
    "            time\n",
    "            objClass\n",
    "            heatmap\n",
    "          }\n",
    "        }\n",
    "      }\n",
    "    }\n",
    "    \"\"\" % (serial, startdate.strftime(\"%Y-%m-%dT%H:00:00\"), enddate.strftime(\"%Y-%m-%dT%H:00:00\"))\n",
    "\n",
    "    heatdata = requests.post(url, json={'query': query}, headers = {'Authorization':token})\n",
    "    \n",
    "    heatarr = np.zeros((480,640))\n",
    "    \n",
    "    for point in heatdata.json()['data']['feedHeatmaps']['edges'][0]['node']['heatmap']:\n",
    "        heatarr[point[1]][point[0]] = point[2]\n",
    "    \n",
    "    \n",
    "    img = cv2.imread(devices[device][1])\n",
    "    heatmap = cv2.resize(heatarr, (img.shape[1], img.shape[0]))\n",
    "    heatmap = cv2.applyColorMap(np.uint8(255 * heatmap), cv2.COLORMAP_JET)\n",
    "    combined_image = cv2.addWeighted(img,1,heatmap,0.3,0)\n",
    "    \n",
    "    combined_image = cv2.cvtColor(combined_image, cv2.COLOR_BGR2RGB)\n",
    "    plt.figure(figsize = (15, 10))\n",
    "    plt.axis('off')\n",
    "    plt.imshow(combined_image)"
   ]
  },
  {
   "cell_type": "code",
   "execution_count": 3,
   "metadata": {},
   "outputs": [
    {
     "data": {
      "application/vnd.jupyter.widget-view+json": {
       "model_id": "9252672c5b804d98a1171853f26f21a4",
       "version_major": 2,
       "version_minor": 0
      },
      "text/plain": [
       "interactive(children=(Dropdown(description='device', options=('Streetscape', 'Outside', 'UnderRaincoat'), valu…"
      ]
     },
     "metadata": {},
     "output_type": "display_data"
    },
    {
     "data": {
      "text/plain": [
       "<function __main__.getHeatmapImage(device, startdate, enddate)>"
      ]
     },
     "execution_count": 3,
     "metadata": {},
     "output_type": "execute_result"
    }
   ],
   "source": [
    "interact_manual(getHeatmapImage, device=widgets.Dropdown(options=list(devices.keys())), \n",
    "                    startdate=widgets.DatePicker(value=pd.to_datetime('2019-01-01')),\n",
    "             enddate=widgets.DatePicker(value=pd.to_datetime('2020-01-01')))"
   ]
  },
  {
   "cell_type": "code",
   "execution_count": 4,
   "metadata": {},
   "outputs": [],
   "source": [
    "def getcountData(device, eventname):\n",
    "    try:\n",
    "        serial = devices[device][0]\n",
    "        eventstart = events[eventname][0]\n",
    "        eventend = events[eventname][1]\n",
    "    except KeyError:\n",
    "        raise Exception('Invalid device or event name.')\n",
    "\n",
    "    query = \"\"\"\n",
    "    query {\n",
    "      feedCountMetrics(\n",
    "        serialnos: [\"%s\"],\n",
    "        startTime:\"%s\",\n",
    "        endTime:\"%s\",\n",
    "        objClasses:[\"pedestrian\"],\n",
    "        timezone:\"America/New_York\",\n",
    "        interval:\"1h\") {\n",
    "        edges {\n",
    "          node {\n",
    "            serialno\n",
    "            result\n",
    "            objClass\n",
    "            time\n",
    "          }\n",
    "        }\n",
    "      }\n",
    "    }\n",
    "    \"\"\" % (serial, eventstart.strftime(\"%Y-%m-%dT%H:00:00\"), eventend.strftime(\"%Y-%m-%dT%H:00:00\"))\n",
    "    \n",
    "    countdata = requests.post(url, json={'query': query}, headers = {'Authorization':token})\n",
    "    return countdata.json()"
   ]
  },
  {
   "cell_type": "code",
   "execution_count": 5,
   "metadata": {},
   "outputs": [],
   "source": [
    "y = getcountData('Outside', 'City Moments')"
   ]
  },
  {
   "cell_type": "code",
   "execution_count": 6,
   "metadata": {},
   "outputs": [
    {
     "data": {
      "text/plain": [
       "[{'node': {'objClass': 'pedestrian',\n",
       "   'result': 10.0,\n",
       "   'serialno': 'SWLSANDBOX3',\n",
       "   'time': '2019-08-16T19:00:00-04:00'}},\n",
       " {'node': {'objClass': 'pedestrian',\n",
       "   'result': 4.0,\n",
       "   'serialno': 'SWLSANDBOX3',\n",
       "   'time': '2019-08-16T20:00:00-04:00'}},\n",
       " {'node': {'objClass': 'pedestrian',\n",
       "   'result': 0.0,\n",
       "   'serialno': 'SWLSANDBOX3',\n",
       "   'time': '2019-08-16T21:00:00-04:00'}},\n",
       " {'node': {'objClass': 'pedestrian',\n",
       "   'result': 1.0,\n",
       "   'serialno': 'SWLSANDBOX3',\n",
       "   'time': '2019-08-16T22:00:00-04:00'}},\n",
       " {'node': {'objClass': 'pedestrian',\n",
       "   'result': 0.0,\n",
       "   'serialno': 'SWLSANDBOX3',\n",
       "   'time': '2019-08-16T23:00:00-04:00'}},\n",
       " {'node': {'objClass': 'pedestrian',\n",
       "   'result': 0.0,\n",
       "   'serialno': 'SWLSANDBOX3',\n",
       "   'time': '2019-08-17T00:00:00-04:00'}},\n",
       " {'node': {'objClass': 'pedestrian',\n",
       "   'result': 0.0,\n",
       "   'serialno': 'SWLSANDBOX3',\n",
       "   'time': '2019-08-17T01:00:00-04:00'}}]"
      ]
     },
     "execution_count": 6,
     "metadata": {},
     "output_type": "execute_result"
    }
   ],
   "source": [
    "y['data']['feedCountMetrics']['edges']"
   ]
  },
  {
   "cell_type": "code",
   "execution_count": null,
   "metadata": {},
   "outputs": [],
   "source": []
  }
 ],
 "metadata": {
  "kernelspec": {
   "display_name": "Python 3",
   "language": "python",
   "name": "python3"
  },
  "language_info": {
   "codemirror_mode": {
    "name": "ipython",
    "version": 3
   },
   "file_extension": ".py",
   "mimetype": "text/x-python",
   "name": "python",
   "nbconvert_exporter": "python",
   "pygments_lexer": "ipython3",
   "version": "3.7.4"
  }
 },
 "nbformat": 4,
 "nbformat_minor": 4
}
