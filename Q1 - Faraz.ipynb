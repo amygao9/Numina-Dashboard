{
 "cells": [
  {
   "cell_type": "markdown",
   "metadata": {},
   "source": [
    "# Imports & Setup"
   ]
  },
  {
   "cell_type": "code",
   "execution_count": 118,
   "metadata": {},
   "outputs": [
    {
     "data": {
      "text/html": [
       "        <script type=\"text/javascript\">\n",
       "        window.PlotlyConfig = {MathJaxConfig: 'local'};\n",
       "        if (window.MathJax) {MathJax.Hub.Config({SVG: {font: \"STIX-Web\"}});}\n",
       "        if (typeof require !== 'undefined') {\n",
       "        require.undef(\"plotly\");\n",
       "        requirejs.config({\n",
       "            paths: {\n",
       "                'plotly': ['https://cdn.plot.ly/plotly-latest.min']\n",
       "            }\n",
       "        });\n",
       "        require(['plotly'], function(Plotly) {\n",
       "            window._Plotly = Plotly;\n",
       "        });\n",
       "        }\n",
       "        </script>\n",
       "        "
      ]
     },
     "metadata": {},
     "output_type": "display_data"
    }
   ],
   "source": [
    "import requests\n",
    "import json\n",
    "\n",
    "# Standard Data Science Helpers\n",
    "import numpy as np\n",
    "import pandas as pd\n",
    "import scipy\n",
    "\n",
    "import plotly as py\n",
    "import plotly.graph_objs as go\n",
    "from plotly.offline import iplot, init_notebook_mode\n",
    "#init_notebook_mode(connected=True)\n",
    "\n",
    "import cufflinks as cf\n",
    "cf.go_offline(connected=True)\n",
    "cf.set_config_file(colorscale='plotly', world_readable=True)\n",
    "\n",
    "# Extra options\n",
    "pd.options.display.max_rows = 30\n",
    "pd.options.display.max_columns = 25\n",
    "\n",
    "# Show all code cells outputs\n",
    "from IPython.core.interactiveshell import InteractiveShell\n",
    "InteractiveShell.ast_node_interactivity = 'all'\n",
    "\n",
    "import os\n",
    "from IPython.display import Image, display, HTML\n",
    "\n",
    "import ipywidgets as widgets\n",
    "from ipywidgets import interact, interact_manual\n",
    "\n",
    "import cv2\n",
    "import matplotlib.pyplot as plt\n",
    "import datetime as dt\n",
    "\n",
    "%run login.py\n",
    "\n",
    "loginquery = f\"\"\"\n",
    "mutation {{\n",
    "  logIn(\n",
    "      email:\\\"{login}\\\",\n",
    "      password:\\\"{pwd}\\\") {{\n",
    "    jwt {{\n",
    "      token\n",
    "      exp\n",
    "    }}\n",
    "  }}\n",
    "}}\n",
    "\"\"\"\n",
    "\n",
    "url = 'https://api.numina.co/graphql'\n",
    "mylogin = requests.post(url, json={'query': loginquery})\n",
    "token = mylogin.json()['data']['logIn']['jwt']['token']\n",
    "\n",
    "devices = {'Streetscape': ('SWLSANDBOX1', 'img/Streetscape.png'), 'Outside': ('SWLSANDBOX3', 'img/Outside.png'),\n",
    "           'UnderRaincoat': ('SWLSANDBOX2', 'img/UnderRaincoat.png')}\n",
    "\n",
    "events = {'City Moments': (dt.datetime(2019, 8, 16, 19), dt.datetime(2019, 8, 17, 2)),\n",
    "         'Open Sidewalk #4': (dt.datetime(2019, 3, 2, 15), dt.datetime(2019, 3, 2, 19)),\n",
    "         'Sidewalk Summer Open House': (dt.datetime(2019, 6, 29, 12), dt.datetime(2019, 6, 29, 18)),\n",
    "         'Startup Open House': (dt.datetime(2019, 9, 26, 16), dt.datetime(2019, 9, 26, 20)),\n",
    "         'Tap:Ex Augmented Opera': (dt.datetime(2019, 11, 20, 18), dt.datetime(2019, 11, 23, 22))}\n",
    "\n",
    "eventsDaySeperated = {'City Moments': (dt.datetime(2019, 8, 16, 19), dt.datetime(2019, 8, 17, 2)),\n",
    "         'Open Sidewalk #4': (dt.datetime(2019, 3, 2, 15), dt.datetime(2019, 3, 2, 19)),\n",
    "         'Sidewalk Summer Open House': (dt.datetime(2019, 6, 29, 12), dt.datetime(2019, 6, 29, 18)),\n",
    "         'Startup Open House': (dt.datetime(2019, 9, 26, 16), dt.datetime(2019, 9, 26, 20)),\n",
    "         'Tap:Ex Augmented Opera Day 1': (dt.datetime(2019, 11, 20, 18), dt.datetime(2019, 11, 20, 22)),\n",
    "         'Tap:Ex Augmented Opera Day 2': (dt.datetime(2019, 11, 21, 18), dt.datetime(2019, 11, 21, 22)),\n",
    "         'Tap:Ex Augmented Opera Day 3': (dt.datetime(2019, 11, 22, 18), dt.datetime(2019, 11, 22, 22)),\n",
    "         'Tap:Ex Augmented Opera Day 4': (dt.datetime(2019, 11, 23, 18), dt.datetime(2019, 11, 23, 22))}\n",
    "\n",
    "selectedEvent = events['City Moments']\n",
    "\n",
    "OutsideZones = {'Tables': '[[245,0],[288,1],[468,0],[521,37],[559,81],[392,86],[307,84],[281,50]]',\n",
    "               'Hedge': '[[448,2],[549,0],[640,0],[640,26],[638,60],[594,64],[544,66],[517,36]]',\n",
    "               'Raincoat': '[[3,0],[104,0],[195,0],[195,24],[212,145],[168,153],[114,168],[0,209]]',\n",
    "               'Tiles': '[[2,212],[89,179],[207,148],[220,207],[229,249],[255,362],[293,479],[0,479]]',\n",
    "               'Concrete': '[[195,54],[267,31],[319,92],[638,78],[638,417],[571,460],[517,378],[292,469]]',\n",
    "               'Leaf': '[[301,464],[380,430],[483,394],[506,384],[541,405],[561,478],[317,480],[309,478]]'}\n",
    "\n",
    "RaincoatZones = {'Entrance': '[[263,0],[295,0],[326,0],[376,0],[533,0],[474,201],[112,122],[104,106]]',\n",
    "                'Top Raincoat': '[[83,131],[157,137],[223,146],[299,157],[470,198],[454,313],[33,210],[25,194]]',\n",
    "                'Right Raincoat': '[[217,256],[247,262],[298,272],[367,286],[460,307],[426,479],[42,480],[189,253]]',\n",
    "                'Left Raincoat': '[[60,220],[127,233],[164,243],[186,249],[182,263],[90,479],[0,480],[0,212]]',\n",
    "                'Right Concrete': '[[470,2],[636,1],[640,212],[638,252],[640,478],[516,477],[426,478],[478,186]]',\n",
    "                'Left Concrete': '[[86,0],[252,0],[258,0],[210,29],[161,63],[108,112],[1,220],[1,0]]'}\n",
    "\n",
    "StreetscapeZones = {'Back Building': '[[225,0],[269,0],[314,33],[280,54],[205,75],[135,99],[107,85],[71,35]]',\n",
    "                    'Side Building': '[[403,0],[640,16],[640,59],[640,93],[640,113],[640,129],[495,81],[367,22]]',\n",
    "                    'Tables': '[[314,41],[428,56],[502,89],[489,102],[440,136],[322,194],[229,123],[186,80]]',\n",
    "                    'Left Walkway': '[[85,76],[181,185],[287,295],[399,410],[365,476],[201,480],[101,271],[45,91]]',\n",
    "                    'Right Walkway': '[[640,159],[640,319],[531,480],[451,480],[366,470],[385,436],[433,386],[475,343]]',\n",
    "                    'Stairs': '[[391,218],[438,258],[483,287],[506,308],[497,326],[448,362],[375,282],[323,241]]',\n",
    "                    'Left of Tables': '[[188,72],[229,120],[283,156],[303,162],[321,180],[265,207],[172,136],[129,93]]',\n",
    "                    'Right of Tables': '[[514,103],[569,124],[635,153],[587,210],[551,254],[503,293],[416,230],[353,195]]'}"
   ]
  },
  {
   "cell_type": "code",
   "execution_count": 125,
   "metadata": {},
   "outputs": [
    {
     "data": {
      "text/plain": [
       "{'Tables': 36524,\n",
       " 'Hedge': 36525,\n",
       " 'Raincoat': 36526,\n",
       " 'Tiles': 36527,\n",
       " 'Concrete': 36528,\n",
       " 'Leaf': 36529}"
      ]
     },
     "execution_count": 125,
     "metadata": {},
     "output_type": "execute_result"
    }
   ],
   "source": [
    "OutsideZones"
   ]
  },
  {
   "cell_type": "code",
   "execution_count": 123,
   "metadata": {},
   "outputs": [],
   "source": [
    "for zone in OutsideZones.keys():\n",
    "    OutsideZoneQuery = \"\"\"\n",
    "    mutation {\n",
    "      createBehaviorZone(\n",
    "        demarcation: %s, serialno: \"SWLSANDBOX3\", text: \"%s\"\n",
    "      ) {\n",
    "        behaviorZone {\n",
    "          rawId\n",
    "          demarcation\n",
    "          text\n",
    "        }\n",
    "      }\n",
    "    }\n",
    "    \"\"\" % (OutsideZones[zone], zone)\n",
    "    \n",
    "    response = requests.post(url, json={'query': OutsideZoneQuery}, headers = {'Authorization':token}).json()\n",
    "    OutsideZones[zone] = response['data']['createBehaviorZone']['behaviorZone']['rawId']\n",
    "\n",
    "for zone in StreetscapeZones.keys():\n",
    "    StreetscapeZoneQuery = \"\"\"\n",
    "    mutation {\n",
    "      createBehaviorZone(\n",
    "        demarcation: %s, serialno: \"SWLSANDBOX1\", text: \"%s\"\n",
    "      ) {\n",
    "        behaviorZone {\n",
    "          rawId\n",
    "          demarcation\n",
    "          text\n",
    "        }\n",
    "      }\n",
    "    }\n",
    "    \"\"\" % (StreetscapeZones[zone], zone)\n",
    "    \n",
    "    response = requests.post(url, json={'query': StreetscapeZoneQuery}, headers = {'Authorization':token}).json()\n",
    "    StreetscapeZones[zone] = response['data']['createBehaviorZone']['behaviorZone']['rawId']\n",
    "\n",
    "for zone in RaincoatZones.keys():\n",
    "    RaincoatZoneQuery = \"\"\"\n",
    "    mutation {\n",
    "      createBehaviorZone(\n",
    "        demarcation: %s, serialno: \"SWLSANDBOX2\", text: \"%s\"\n",
    "      ) {\n",
    "        behaviorZone {\n",
    "          rawId\n",
    "          demarcation\n",
    "          text\n",
    "        }\n",
    "      }\n",
    "    }\n",
    "    \"\"\" % (RaincoatZones[zone], zone)\n",
    "    \n",
    "    response = requests.post(url, json={'query': RaincoatZoneQuery}, headers = {'Authorization':token}).json()\n",
    "    RaincoatZones[zone] = response['data']['createBehaviorZone']['behaviorZone']['rawId']"
   ]
  },
  {
   "cell_type": "code",
   "execution_count": 169,
   "metadata": {},
   "outputs": [],
   "source": [
    "eventDwellTimes = pd.DataFrame(columns=['event', 'serialno', 'time', 'mean', 'count', 'pct100', 'pct75', 'pct50', 'pct25'])\n",
    "\n",
    "for event in eventsDaySeperated.keys():\n",
    "    dwellTimesQueries = \"\"\"\n",
    "    query {\n",
    "      feedDwellTimeDistribution(\n",
    "        serialnos:[\"SWLSANDBOX1\", \"SWLSANDBOX2\", \"SWLSANDBOX3\"],\n",
    "        startTime:\"%s\",\n",
    "        endTime:\"%s\",\n",
    "        objClasses:[\"pedestrian\"],\n",
    "        interval:\"1h\") {\n",
    "        edges {\n",
    "          node {\n",
    "            mean\n",
    "            count\n",
    "            pct100\n",
    "            pct75\n",
    "            pct50\n",
    "            pct25\n",
    "            serialno\n",
    "            time\n",
    "          }\n",
    "        }\n",
    "      }\n",
    "    }\n",
    "    \"\"\" % (eventsDaySeperated[event][0].strftime(\"%Y-%m-%dT%H:00:00\"), eventsDaySeperated[event][1].strftime(\"%Y-%m-%dT%H:00:00\"))\n",
    "\n",
    "    response = requests.post(url, json={'query': dwellTimesQueries}, headers = {'Authorization':token}).json()\n",
    "\n",
    "    for edge in response['data']['feedDwellTimeDistribution']['edges']:\n",
    "        node = edge['node']\n",
    "        node_row = pd.DataFrame([[event, node['serialno'], node['time'], node['mean'], node['count'], node['pct100'], node['pct75'], node['pct50'], node['pct25']]],\n",
    "                    columns=['event', 'serialno', 'time', 'mean', 'count', 'pct100', 'pct75', 'pct50', 'pct25'])\n",
    "        eventDwellTimes = eventDwellTimes.append(node_row)\n",
    "    "
   ]
  },
  {
   "cell_type": "code",
   "execution_count": 170,
   "metadata": {},
   "outputs": [
    {
     "data": {
      "text/html": [
       "<div>\n",
       "<style scoped>\n",
       "    .dataframe tbody tr th:only-of-type {\n",
       "        vertical-align: middle;\n",
       "    }\n",
       "\n",
       "    .dataframe tbody tr th {\n",
       "        vertical-align: top;\n",
       "    }\n",
       "\n",
       "    .dataframe thead th {\n",
       "        text-align: right;\n",
       "    }\n",
       "</style>\n",
       "<table border=\"1\" class=\"dataframe\">\n",
       "  <thead>\n",
       "    <tr style=\"text-align: right;\">\n",
       "      <th></th>\n",
       "      <th>event</th>\n",
       "      <th>serialno</th>\n",
       "      <th>time</th>\n",
       "      <th>mean</th>\n",
       "      <th>count</th>\n",
       "      <th>pct100</th>\n",
       "      <th>pct75</th>\n",
       "      <th>pct50</th>\n",
       "      <th>pct25</th>\n",
       "    </tr>\n",
       "  </thead>\n",
       "  <tbody>\n",
       "    <tr>\n",
       "      <td>0</td>\n",
       "      <td>City Moments</td>\n",
       "      <td>SWLSANDBOX1</td>\n",
       "      <td>2019-08-16T19:00:00</td>\n",
       "      <td>6.12</td>\n",
       "      <td>36</td>\n",
       "      <td>23.45</td>\n",
       "      <td>8.85</td>\n",
       "      <td>5.71</td>\n",
       "      <td>2.1</td>\n",
       "    </tr>\n",
       "    <tr>\n",
       "      <td>0</td>\n",
       "      <td>City Moments</td>\n",
       "      <td>SWLSANDBOX2</td>\n",
       "      <td>2019-08-16T19:00:00</td>\n",
       "      <td>None</td>\n",
       "      <td>0</td>\n",
       "      <td>None</td>\n",
       "      <td>None</td>\n",
       "      <td>None</td>\n",
       "      <td>None</td>\n",
       "    </tr>\n",
       "    <tr>\n",
       "      <td>0</td>\n",
       "      <td>City Moments</td>\n",
       "      <td>SWLSANDBOX1</td>\n",
       "      <td>2019-08-16T20:00:00</td>\n",
       "      <td>1511.41</td>\n",
       "      <td>7</td>\n",
       "      <td>10564.7</td>\n",
       "      <td>5.24</td>\n",
       "      <td>2.1</td>\n",
       "      <td>1.06</td>\n",
       "    </tr>\n",
       "    <tr>\n",
       "      <td>0</td>\n",
       "      <td>City Moments</td>\n",
       "      <td>SWLSANDBOX2</td>\n",
       "      <td>2019-08-16T20:00:00</td>\n",
       "      <td>75.09</td>\n",
       "      <td>3</td>\n",
       "      <td>217.9</td>\n",
       "      <td>217.9</td>\n",
       "      <td>5.76</td>\n",
       "      <td>1.6</td>\n",
       "    </tr>\n",
       "    <tr>\n",
       "      <td>0</td>\n",
       "      <td>City Moments</td>\n",
       "      <td>SWLSANDBOX1</td>\n",
       "      <td>2019-08-16T21:00:00</td>\n",
       "      <td>None</td>\n",
       "      <td>0</td>\n",
       "      <td>None</td>\n",
       "      <td>None</td>\n",
       "      <td>None</td>\n",
       "      <td>None</td>\n",
       "    </tr>\n",
       "    <tr>\n",
       "      <td>...</td>\n",
       "      <td>...</td>\n",
       "      <td>...</td>\n",
       "      <td>...</td>\n",
       "      <td>...</td>\n",
       "      <td>...</td>\n",
       "      <td>...</td>\n",
       "      <td>...</td>\n",
       "      <td>...</td>\n",
       "      <td>...</td>\n",
       "    </tr>\n",
       "    <tr>\n",
       "      <td>0</td>\n",
       "      <td>Tap:Ex Augmented Opera Day 4</td>\n",
       "      <td>SWLSANDBOX2</td>\n",
       "      <td>2019-11-23T19:00:00</td>\n",
       "      <td>5.11</td>\n",
       "      <td>6</td>\n",
       "      <td>11.94</td>\n",
       "      <td>11.41</td>\n",
       "      <td>2.58</td>\n",
       "      <td>1.56</td>\n",
       "    </tr>\n",
       "    <tr>\n",
       "      <td>0</td>\n",
       "      <td>Tap:Ex Augmented Opera Day 4</td>\n",
       "      <td>SWLSANDBOX1</td>\n",
       "      <td>2019-11-23T20:00:00</td>\n",
       "      <td>None</td>\n",
       "      <td>0</td>\n",
       "      <td>None</td>\n",
       "      <td>None</td>\n",
       "      <td>None</td>\n",
       "      <td>None</td>\n",
       "    </tr>\n",
       "    <tr>\n",
       "      <td>0</td>\n",
       "      <td>Tap:Ex Augmented Opera Day 4</td>\n",
       "      <td>SWLSANDBOX2</td>\n",
       "      <td>2019-11-23T20:00:00</td>\n",
       "      <td>3</td>\n",
       "      <td>20</td>\n",
       "      <td>7.88</td>\n",
       "      <td>3.61</td>\n",
       "      <td>2.55</td>\n",
       "      <td>1.57</td>\n",
       "    </tr>\n",
       "    <tr>\n",
       "      <td>0</td>\n",
       "      <td>Tap:Ex Augmented Opera Day 4</td>\n",
       "      <td>SWLSANDBOX1</td>\n",
       "      <td>2019-11-23T21:00:00</td>\n",
       "      <td>None</td>\n",
       "      <td>0</td>\n",
       "      <td>None</td>\n",
       "      <td>None</td>\n",
       "      <td>None</td>\n",
       "      <td>None</td>\n",
       "    </tr>\n",
       "    <tr>\n",
       "      <td>0</td>\n",
       "      <td>Tap:Ex Augmented Opera Day 4</td>\n",
       "      <td>SWLSANDBOX2</td>\n",
       "      <td>2019-11-23T21:00:00</td>\n",
       "      <td>27.53</td>\n",
       "      <td>19</td>\n",
       "      <td>127.6</td>\n",
       "      <td>38.55</td>\n",
       "      <td>5.2</td>\n",
       "      <td>2.58</td>\n",
       "    </tr>\n",
       "  </tbody>\n",
       "</table>\n",
       "<p>74 rows × 9 columns</p>\n",
       "</div>"
      ],
      "text/plain": [
       "                           event     serialno                 time     mean  \\\n",
       "0                   City Moments  SWLSANDBOX1  2019-08-16T19:00:00     6.12   \n",
       "0                   City Moments  SWLSANDBOX2  2019-08-16T19:00:00     None   \n",
       "0                   City Moments  SWLSANDBOX1  2019-08-16T20:00:00  1511.41   \n",
       "0                   City Moments  SWLSANDBOX2  2019-08-16T20:00:00    75.09   \n",
       "0                   City Moments  SWLSANDBOX1  2019-08-16T21:00:00     None   \n",
       "..                           ...          ...                  ...      ...   \n",
       "0   Tap:Ex Augmented Opera Day 4  SWLSANDBOX2  2019-11-23T19:00:00     5.11   \n",
       "0   Tap:Ex Augmented Opera Day 4  SWLSANDBOX1  2019-11-23T20:00:00     None   \n",
       "0   Tap:Ex Augmented Opera Day 4  SWLSANDBOX2  2019-11-23T20:00:00        3   \n",
       "0   Tap:Ex Augmented Opera Day 4  SWLSANDBOX1  2019-11-23T21:00:00     None   \n",
       "0   Tap:Ex Augmented Opera Day 4  SWLSANDBOX2  2019-11-23T21:00:00    27.53   \n",
       "\n",
       "   count   pct100  pct75 pct50 pct25  \n",
       "0     36    23.45   8.85  5.71   2.1  \n",
       "0      0     None   None  None  None  \n",
       "0      7  10564.7   5.24   2.1  1.06  \n",
       "0      3    217.9  217.9  5.76   1.6  \n",
       "0      0     None   None  None  None  \n",
       "..   ...      ...    ...   ...   ...  \n",
       "0      6    11.94  11.41  2.58  1.56  \n",
       "0      0     None   None  None  None  \n",
       "0     20     7.88   3.61  2.55  1.57  \n",
       "0      0     None   None  None  None  \n",
       "0     19    127.6  38.55   5.2  2.58  \n",
       "\n",
       "[74 rows x 9 columns]"
      ]
     },
     "execution_count": 170,
     "metadata": {},
     "output_type": "execute_result"
    }
   ],
   "source": [
    "eventDwellTimes"
   ]
  },
  {
   "cell_type": "code",
   "execution_count": 166,
   "metadata": {},
   "outputs": [],
   "source": [
    "eventDwellTimes = pd.DataFrame(columns=['event', 'device', 'time', 'mean', 'count', 'pct100', 'pct75', 'pct50', 'pct25'])"
   ]
  },
  {
   "cell_type": "code",
   "execution_count": 167,
   "metadata": {},
   "outputs": [
    {
     "data": {
      "text/html": [
       "<div>\n",
       "<style scoped>\n",
       "    .dataframe tbody tr th:only-of-type {\n",
       "        vertical-align: middle;\n",
       "    }\n",
       "\n",
       "    .dataframe tbody tr th {\n",
       "        vertical-align: top;\n",
       "    }\n",
       "\n",
       "    .dataframe thead th {\n",
       "        text-align: right;\n",
       "    }\n",
       "</style>\n",
       "<table border=\"1\" class=\"dataframe\">\n",
       "  <thead>\n",
       "    <tr style=\"text-align: right;\">\n",
       "      <th></th>\n",
       "      <th>0</th>\n",
       "    </tr>\n",
       "  </thead>\n",
       "  <tbody>\n",
       "    <tr>\n",
       "      <td>0</td>\n",
       "      <td>a</td>\n",
       "    </tr>\n",
       "    <tr>\n",
       "      <td>1</td>\n",
       "      <td>b</td>\n",
       "    </tr>\n",
       "  </tbody>\n",
       "</table>\n",
       "</div>"
      ],
      "text/plain": [
       "   0\n",
       "0  a\n",
       "1  b"
      ]
     },
     "execution_count": 167,
     "metadata": {},
     "output_type": "execute_result"
    }
   ],
   "source": [
    "pd.DataFrame(['a','b'])"
   ]
  },
  {
   "cell_type": "markdown",
   "metadata": {},
   "source": [
    "# Global Event Selector"
   ]
  },
  {
   "cell_type": "code",
   "execution_count": 111,
   "metadata": {},
   "outputs": [
    {
     "data": {
      "application/vnd.jupyter.widget-view+json": {
       "model_id": "53eba6e839964bc6b3afbc54fda12211",
       "version_major": 2,
       "version_minor": 0
      },
      "text/plain": [
       "interactive(children=(Dropdown(description='event', options=('City Moments', 'Open Sidewalk #4', 'Sidewalk Sum…"
      ]
     },
     "metadata": {},
     "output_type": "display_data"
    },
    {
     "data": {
      "text/plain": [
       "<function __main__.eventSelector(event)>"
      ]
     },
     "execution_count": 111,
     "metadata": {},
     "output_type": "execute_result"
    }
   ],
   "source": [
    "def eventSelector(event):\n",
    "    global selectedEvent\n",
    "    if event == 'None':\n",
    "        selectedEvent = 'None'\n",
    "    else:\n",
    "        selectedEvent = events[event]\n",
    "\n",
    "eventNames = list(events.keys())\n",
    "eventNames.append('None')\n",
    "\n",
    "interact_manual(eventSelector, event=widgets.Dropdown(options=eventNames))\n"
   ]
  },
  {
   "cell_type": "markdown",
   "metadata": {},
   "source": [
    "# Dwell Time Table For Events"
   ]
  },
  {
   "cell_type": "code",
   "execution_count": 112,
   "metadata": {
    "scrolled": true
   },
   "outputs": [
    {
     "data": {
      "text/html": [
       "<div>\n",
       "<style scoped>\n",
       "    .dataframe tbody tr th:only-of-type {\n",
       "        vertical-align: middle;\n",
       "    }\n",
       "\n",
       "    .dataframe tbody tr th {\n",
       "        vertical-align: top;\n",
       "    }\n",
       "\n",
       "    .dataframe thead th {\n",
       "        text-align: right;\n",
       "    }\n",
       "</style>\n",
       "<table border=\"1\" class=\"dataframe\">\n",
       "  <thead>\n",
       "    <tr style=\"text-align: right;\">\n",
       "      <th></th>\n",
       "      <th>event</th>\n",
       "      <th>count</th>\n",
       "    </tr>\n",
       "  </thead>\n",
       "  <tbody>\n",
       "    <tr>\n",
       "      <td>0</td>\n",
       "      <td>City Moments</td>\n",
       "      <td>257.0</td>\n",
       "    </tr>\n",
       "    <tr>\n",
       "      <td>1</td>\n",
       "      <td>Open Sidewalk #4</td>\n",
       "      <td>4975.0</td>\n",
       "    </tr>\n",
       "    <tr>\n",
       "      <td>2</td>\n",
       "      <td>Sidewalk Summer Open House</td>\n",
       "      <td>19533.0</td>\n",
       "    </tr>\n",
       "    <tr>\n",
       "      <td>3</td>\n",
       "      <td>Startup Open House</td>\n",
       "      <td>3748.0</td>\n",
       "    </tr>\n",
       "    <tr>\n",
       "      <td>4</td>\n",
       "      <td>Tap:Ex Augmented Opera</td>\n",
       "      <td>8556.0</td>\n",
       "    </tr>\n",
       "  </tbody>\n",
       "</table>\n",
       "</div>"
      ],
      "text/plain": [
       "                        event    count\n",
       "0                City Moments    257.0\n",
       "1            Open Sidewalk #4   4975.0\n",
       "2  Sidewalk Summer Open House  19533.0\n",
       "3          Startup Open House   3748.0\n",
       "4      Tap:Ex Augmented Opera   8556.0"
      ]
     },
     "execution_count": 112,
     "metadata": {},
     "output_type": "execute_result"
    }
   ],
   "source": [
    "eventCounts = pd.DataFrame(columns=['event', 'count'])\n",
    "\n",
    "for event in events.keys():\n",
    "    startdate = events[event][0]\n",
    "    enddate = events[event][1]\n",
    "    \n",
    "    eventCountsQuery = \"\"\"\n",
    "    query {\n",
    "      feedCountMetrics(\n",
    "        serialnos:[\"SWLSANDBOX1\", \"SWLSANDBOX2\", \"SWLSANDBOX3\"],\n",
    "        startTime:\"%s\",\n",
    "        endTime:\"%s\",\n",
    "        objClasses:[\"pedestrian\"],\n",
    "        timezone:\"America/New_York\",\n",
    "        interval:\"24h\") {\n",
    "        edges {\n",
    "          node {\n",
    "            serialno\n",
    "            result\n",
    "            objClass\n",
    "            time\n",
    "          }\n",
    "        }\n",
    "      }\n",
    "    }\n",
    "    \"\"\" % (startdate.strftime(\"%Y-%m-%dT%H:00:00\"), enddate.strftime(\"%Y-%m-%dT%H:00:00\"))\n",
    "    \n",
    "    response = requests.post(url, json={'query': eventCountsQuery}, headers = {'Authorization':token}).json()\n",
    "\n",
    "    count = 0\n",
    "    for edge in response['data']['feedCountMetrics']['edges']:\n",
    "        count = count + edge['node']['result']\n",
    "    \n",
    "    this_event = pd.DataFrame([[event, count]], columns=['event', 'count'])\n",
    "    eventCounts = eventCounts.append(this_event)\n",
    "    \n",
    "eventCounts = eventCounts.reset_index(drop=True)\n",
    "eventCounts\n",
    "    "
   ]
  },
  {
   "cell_type": "markdown",
   "metadata": {},
   "source": [
    "# Dwell Time Comparison For Events"
   ]
  },
  {
   "cell_type": "code",
   "execution_count": 148,
   "metadata": {},
   "outputs": [
    {
     "data": {
      "application/vnd.jupyter.widget-view+json": {
       "model_id": "0767796a0d344294b76c1ca4e8a41408",
       "version_major": 2,
       "version_minor": 0
      },
      "text/plain": [
       "interactive(children=(DatePicker(value=Timestamp('2019-01-01 00:00:00'), description='startdate'), DatePicker(…"
      ]
     },
     "metadata": {},
     "output_type": "display_data"
    },
    {
     "data": {
      "text/plain": [
       "<function __main__.dwellTimeEventsBar(startdate, enddate)>"
      ]
     },
     "execution_count": 148,
     "metadata": {},
     "output_type": "execute_result"
    }
   ],
   "source": [
    "def dwellTimeEventsBar(startdate, enddate):\n",
    "    \n",
    "    dwellTimeEventsQuery = \"\"\"\n",
    "    query {\n",
    "      feedCountMetrics(\n",
    "        serialnos:[\"SWLSANDBOX1\", \"SWLSANDBOX2\", \"SWLSANDBOX3\"],\n",
    "        startTime:\"%s\",\n",
    "        endTime:\"%s\",\n",
    "        objClasses:[\"pedestrian\"],\n",
    "        timezone:\"America/New_York\",\n",
    "        interval:\"24h\") {\n",
    "        edges {\n",
    "          node {\n",
    "            serialno\n",
    "            result\n",
    "            objClass\n",
    "            time\n",
    "          }\n",
    "        }\n",
    "      }\n",
    "    }\n",
    "    \"\"\" % (startdate.strftime(\"%Y-%m-%dT00:00:00\"), enddate.strftime(\"%Y-%m-%dT00:00:00\"))    \n",
    "    \n",
    "    response = requests.post(url, json={'query': dwellTimeEventsQuery}, headers = {'Authorization':token}).json()\n",
    "\n",
    "    count = 0\n",
    "    for edge in response['data']['feedCountMetrics']['edges']:\n",
    "        count = count + edge['node']['result']\n",
    "        \n",
    "    this_date = pd.DataFrame([['Selected Timeframe', count]], columns=['event', 'count'])\n",
    "    \n",
    "    eventCounts_copy = eventCounts\n",
    "    eventCounts_copy = eventCounts_copy.append(this_date)\n",
    "    \n",
    "    plt.barh(eventCounts_copy['event'], eventCounts_copy['count'])\n",
    "\n",
    "interact_manual(dwellTimeEventsBar, startdate=widgets.DatePicker(value=pd.to_datetime('2019-01-01')), \n",
    "                enddate=widgets.DatePicker(value=pd.to_datetime('2020-01-01')))"
   ]
  },
  {
   "cell_type": "code",
   "execution_count": 98,
   "metadata": {},
   "outputs": [],
   "source": [
    "def getHeatmapImage(device, startdate, enddate):\n",
    "    serial = devices[device][0]\n",
    "    \n",
    "    query = \"\"\"\n",
    "    query {\n",
    "      feedHeatmaps(\n",
    "        serialno: \"%s\",\n",
    "        startTime:\"%s\",\n",
    "        endTime:\"%s\",\n",
    "        objClasses:[\"pedestrian\"],\n",
    "        timezone:\"America/New_York\") {\n",
    "        edges {\n",
    "          node {\n",
    "            time\n",
    "            objClass\n",
    "            heatmap\n",
    "          }\n",
    "        }\n",
    "      }\n",
    "    }\n",
    "    \"\"\" % (serial, startdate.strftime(\"%Y-%m-%dT%H:00:00\"), enddate.strftime(\"%Y-%m-%dT%H:00:00\"))\n",
    "\n",
    "    heatdata = requests.post(url, json={'query': query}, headers = {'Authorization':token})\n",
    "    \n",
    "    heatarr = np.zeros((480,640))\n",
    "    \n",
    "    for point in heatdata.json()['data']['feedHeatmaps']['edges'][0]['node']['heatmap']:\n",
    "        heatarr[point[1]][point[0]] = point[2]\n",
    "    \n",
    "    \n",
    "    img = cv2.imread(devices[device][1])\n",
    "    heatmap = cv2.resize(heatarr, (img.shape[1], img.shape[0]))\n",
    "    heatmap = cv2.applyColorMap(np.uint8(255 * heatmap), cv2.COLORMAP_JET)\n",
    "    combined_image = cv2.addWeighted(img,1,heatmap,0.3,0)\n",
    "    \n",
    "    combined_image = cv2.cvtColor(combined_image, cv2.COLOR_BGR2RGB)\n",
    "    plt.figure(figsize = (15, 10))\n",
    "    plt.axis('off')\n",
    "    plt.imshow(combined_image)"
   ]
  },
  {
   "cell_type": "code",
   "execution_count": 113,
   "metadata": {},
   "outputs": [
    {
     "data": {
      "application/vnd.jupyter.widget-view+json": {
       "model_id": "568675c95d1c4bfab62d71768703ab7f",
       "version_major": 2,
       "version_minor": 0
      },
      "text/plain": [
       "interactive(children=(Dropdown(description='device', options=('Streetscape', 'Outside', 'UnderRaincoat'), valu…"
      ]
     },
     "metadata": {},
     "output_type": "display_data"
    },
    {
     "data": {
      "text/plain": [
       "<function __main__.getHeatmapImage(device, startdate, enddate)>"
      ]
     },
     "execution_count": 113,
     "metadata": {},
     "output_type": "execute_result"
    }
   ],
   "source": [
    "interact_manual(getHeatmapImage, device=widgets.Dropdown(options=list(devices.keys())), \n",
    "                    startdate=widgets.DatePicker(value=pd.to_datetime('2019-01-01')),\n",
    "             enddate=widgets.DatePicker(value=pd.to_datetime('2020-01-01')))"
   ]
  },
  {
   "cell_type": "code",
   "execution_count": 114,
   "metadata": {},
   "outputs": [
    {
     "data": {
      "application/vnd.jupyter.widget-view+json": {
       "model_id": "c45a7e11e97e48779f4240c09aec8cd4",
       "version_major": 2,
       "version_minor": 0
      },
      "text/plain": [
       "interactive(children=(Dropdown(description='device', options=('Streetscape', 'Outside', 'UnderRaincoat'), valu…"
      ]
     },
     "metadata": {},
     "output_type": "display_data"
    },
    {
     "data": {
      "text/plain": [
       "<function __main__.HeatmapEventSlider(device, event, time, cumulative)>"
      ]
     },
     "execution_count": 114,
     "metadata": {},
     "output_type": "execute_result"
    }
   ],
   "source": [
    "def HeatmapEventSlider(device, event, time, cumulative):\n",
    "    serial = devices[device][0]\n",
    "    \n",
    "    if not cumulative:\n",
    "        start = eventsDaySeperated[event][0] + dt.timedelta(hours=time)\n",
    "        end = start + dt.timedelta(hours=1)\n",
    "    else:\n",
    "        start = eventsDaySeperated[event][0]\n",
    "        end = start + dt.timedelta(hours=time)\n",
    "    \n",
    "    query = \"\"\"\n",
    "    query {\n",
    "      feedHeatmaps(\n",
    "        serialno: \"%s\",\n",
    "        startTime:\"%s\",\n",
    "        endTime:\"%s\",\n",
    "        objClasses:[\"pedestrian\"],\n",
    "        timezone:\"America/New_York\") {\n",
    "        edges {\n",
    "          node {\n",
    "            time\n",
    "            objClass\n",
    "            heatmap\n",
    "          }\n",
    "        }\n",
    "      }\n",
    "    }\n",
    "    \"\"\" % (serial, start.strftime(\"%Y-%m-%dT%H:00:00\"), end.strftime(\"%Y-%m-%dT%H:00:00\"))\n",
    "    \n",
    "    heatdata = requests.post(url, json={'query': query}, headers = {'Authorization':token})\n",
    "    \n",
    "    heatarr = np.zeros((480,640))\n",
    "    \n",
    "    for point in heatdata.json()['data']['feedHeatmaps']['edges'][0]['node']['heatmap']:\n",
    "        heatarr[point[1]][point[0]] = point[2]\n",
    "    \n",
    "    \n",
    "    img = cv2.imread(devices[device][1])\n",
    "    heatmap = cv2.resize(heatarr, (img.shape[1], img.shape[0]))\n",
    "    heatmap = cv2.applyColorMap(np.uint8(255 * heatmap), cv2.COLORMAP_JET)\n",
    "    combined_image = cv2.addWeighted(img,1,heatmap,0.3,0)\n",
    "    \n",
    "    combined_image = cv2.cvtColor(combined_image, cv2.COLOR_BGR2RGB)\n",
    "    plt.figure(figsize = (15, 10))\n",
    "    plt.axis('off')\n",
    "    plt.imshow(combined_image)\n",
    "\n",
    "interact_manual(HeatmapEventSlider, device=widgets.Dropdown(options=list(devices.keys())), \n",
    "                event=widgets.Dropdown(options=list(eventsDaySeperated.keys())), time=(0, 7), cumulative=widgets.Checkbox())"
   ]
  },
  {
   "cell_type": "code",
   "execution_count": 116,
   "metadata": {},
   "outputs": [
    {
     "data": {
      "application/vnd.jupyter.widget-view+json": {
       "model_id": "cce2e8822bf84ef986047b996a257f17",
       "version_major": 2,
       "version_minor": 0
      },
      "text/plain": [
       "interactive(children=(Dropdown(description='device', options=('Streetscape', 'Outside', 'UnderRaincoat'), valu…"
      ]
     },
     "metadata": {},
     "output_type": "display_data"
    },
    {
     "data": {
      "text/plain": [
       "<function __main__.HeatmapEventSlider(device, day, time, cumulative)>"
      ]
     },
     "execution_count": 116,
     "metadata": {},
     "output_type": "execute_result"
    }
   ],
   "source": [
    "def HeatmapEventSlider(device, day, time, cumulative):\n",
    "    serial = devices[device][0]\n",
    "    \n",
    "    if not cumulative:\n",
    "        start = day + dt.timedelta(hours=time)\n",
    "        end = start + dt.timedelta(hours=1)\n",
    "    else:\n",
    "        start = day\n",
    "        end = start + dt.timedelta(hours=time)\n",
    "    \n",
    "    query = \"\"\"\n",
    "    query {\n",
    "      feedHeatmaps(\n",
    "        serialno: \"%s\",\n",
    "        startTime:\"%s\",\n",
    "        endTime:\"%s\",\n",
    "        objClasses:[\"pedestrian\"],\n",
    "        timezone:\"America/New_York\") {\n",
    "        edges {\n",
    "          node {\n",
    "            time\n",
    "            objClass\n",
    "            heatmap\n",
    "          }\n",
    "        }\n",
    "      }\n",
    "    }\n",
    "    \"\"\" % (serial, start.strftime(\"%Y-%m-%dT%H:00:00\"), end.strftime(\"%Y-%m-%dT%H:00:00\"))\n",
    "    \n",
    "    heatdata = requests.post(url, json={'query': query}, headers = {'Authorization':token})\n",
    "    \n",
    "    heatarr = np.zeros((480,640))\n",
    "    \n",
    "    for point in heatdata.json()['data']['feedHeatmaps']['edges'][0]['node']['heatmap']:\n",
    "        heatarr[point[1]][point[0]] = point[2]\n",
    "    \n",
    "    \n",
    "    img = cv2.imread(devices[device][1])\n",
    "    heatmap = cv2.resize(heatarr, (img.shape[1], img.shape[0]))\n",
    "    heatmap = cv2.applyColorMap(np.uint8(255 * heatmap), cv2.COLORMAP_JET)\n",
    "    combined_image = cv2.addWeighted(img,1,heatmap,0.3,0)\n",
    "    \n",
    "    combined_image = cv2.cvtColor(combined_image, cv2.COLOR_BGR2RGB)\n",
    "    plt.figure(figsize = (15, 10))\n",
    "    plt.axis('off')\n",
    "    plt.imshow(combined_image)\n",
    "\n",
    "interact_manual(HeatmapEventSlider, device=widgets.Dropdown(options=list(devices.keys())), \n",
    "                day=widgets.DatePicker(value=pd.to_datetime('2019-01-01')), time=(0, 24), cumulative=widgets.Checkbox())"
   ]
  },
  {
   "cell_type": "code",
   "execution_count": null,
   "metadata": {},
   "outputs": [],
   "source": []
  }
 ],
 "metadata": {
  "kernelspec": {
   "display_name": "Python 3",
   "language": "python",
   "name": "python3"
  },
  "language_info": {
   "codemirror_mode": {
    "name": "ipython",
    "version": 3
   },
   "file_extension": ".py",
   "mimetype": "text/x-python",
   "name": "python",
   "nbconvert_exporter": "python",
   "pygments_lexer": "ipython3",
   "version": "3.7.4"
  }
 },
 "nbformat": 4,
 "nbformat_minor": 4
}
