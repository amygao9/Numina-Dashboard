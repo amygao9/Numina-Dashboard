{
 "cells": [
  {
   "cell_type": "markdown",
   "metadata": {},
   "source": [
    "# **Our Privacy Philosophy**"
   ]
  },
  {
   "cell_type": "markdown",
   "metadata": {},
   "source": [
    "In the digital world today, the balance between personal privacy and the benefits of data collection are often scrutinized. In our website, we queried Numina API data from the sensors at 307 for use in our data analysis. \n",
    "Throughout all of our data processing, we respected the privacy of indivduals being recorded and did not include any personally identiable information about them. In addition, the sample images overlayed in our heatmaps have no recognizable people or faces in them. The majority of the Numina data was used strictly for counting occurences of objects detected at certain times near the sensors.\n",
    "\n",
    "Overall, data collection is significantly  beneficial and informative for society as it supports smart decision making by companies and the government. The analysis from data helps society understand people's interactions and as a result, helps people efficiently tailor action for specific needs. For instance, in this case it helps Sidewalk Labs make informed decisions about future developments or construction based on data analysis on dwell time and pedestrian traffic. We believe that the benefits for this method of data collection outweigh the negligible privacy concerns.\n",
    "\n",
    "\n",
    "\n",
    "\n"
   ]
  },
  {
   "cell_type": "code",
   "execution_count": null,
   "metadata": {},
   "outputs": [],
   "source": []
  }
 ],
 "metadata": {
  "kernelspec": {
   "display_name": "Python 3",
   "language": "python",
   "name": "python3"
  },
  "language_info": {
   "codemirror_mode": {
    "name": "ipython",
    "version": 3
   },
   "file_extension": ".py",
   "mimetype": "text/x-python",
   "name": "python",
   "nbconvert_exporter": "python",
   "pygments_lexer": "ipython3",
   "version": "3.7.0"
  }
 },
 "nbformat": 4,
 "nbformat_minor": 2
}
