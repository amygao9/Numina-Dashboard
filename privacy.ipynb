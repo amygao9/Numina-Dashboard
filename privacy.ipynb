{
 "cells": [
  {
   "cell_type": "markdown",
   "metadata": {},
   "source": [
    "# **Our Privacy Philosophy**"
   ]
  },
  {
   "cell_type": "markdown",
   "metadata": {},
   "source": [
    "## Our Goal\n",
    "\n",
    "In the digital world today, the balance between personal privacy and the benefits of data collection are often scrutinized. In our website, we queried Numina API data from the sensors at 307 for use in our data analysis. \n",
    "Throughout all of our data processing, we respected the privacy of indivduals being recorded and did not include any personally identiable information about them. In addition, the sample images overlayed in our heatmaps have no recognizable people or faces in them. The majority of the Numina data was used strictly for counting occurences of objects detected at certain times near the sensors. This way, we can get the greatest insight without using data that might be able to invade someones privacy.\n",
    "\n",
    "Overall, data collection is significantly  beneficial and informative for society as it supports smart decision making by companies and the government. The analysis from data helps society understand people's interactions and as a result, helps people efficiently tailor action for specific needs. For instance, in this case it helps Sidewalk Labs make informed decisions about future developments or construction based on data analysis on dwell time and pedestrian traffic. We believe that the benefits for this method of data collection outweigh the negligible privacy concerns.\n",
    "\n",
    "\n",
    "\n",
    "\n"
   ]
  },
  {
   "cell_type": "markdown",
   "metadata": {},
   "source": [
    "## Data We Used\n",
    "\n",
    "In order to create our visualizations and tables for our dashboard, we used the Numina API to collect data. All the information we gather through the Numina API is aggregate, meaning it does not provide us with any information involving a specific person. For example, our dwell time values are the mean of dwell time values for everyone detected by a sensor. In the following table, we describe all types of data we used and how we ensured that we were respecting the privacy of people detected by the sensor."
   ]
  },
  {
   "cell_type": "markdown",
   "metadata": {},
   "source": [
    "| Data Type | Usage | Privacy Remarks |\n",
    "|-------------------|----------------------------------------------------------------------------------------------------------------|-------------------------------------------------------------------------------------------------------------------------------------------|\n",
    "| Sample Images | Used for zone reference and as background for heatmap. | No identifiable faces and/or people and only 3 images  used. |\n",
    "| Devices | Used device serialno and names. | No privacy remarks. |\n",
    "| Pedestrian Counts | Used to count people in an area during a given timeframe. | Only count data selected, no personal data of any person. |\n",
    "| Dwell Times | Used to count how long someone dwells in an area during a given timeframe. | No information on any specific persons dwell time is used. All dwell time data is in terms of mean (or a certain  percentile) dwell time. |\n",
    "| Heatmaps | Used to visualize pedestrian counts in different areas during a given timeframe. | Does not provide any information on the movement of any specific person. |\n",
    "| Events | Used the timings of events at 307 in order to visualize how events affect certain parameters (dwell time etc.) | No information of any certain people attending event or event itinerary used. |"
   ]
  },
  {
   "cell_type": "code",
   "execution_count": null,
   "metadata": {},
   "outputs": [],
   "source": []
  }
 ],
 "metadata": {
  "kernelspec": {
   "display_name": "Python 3",
   "language": "python",
   "name": "python3"
  },
  "language_info": {
   "codemirror_mode": {
    "name": "ipython",
    "version": 3
   },
   "file_extension": ".py",
   "mimetype": "text/x-python",
   "name": "python",
   "nbconvert_exporter": "python",
   "pygments_lexer": "ipython3",
   "version": "3.7.4"
  }
 },
 "nbformat": 4,
 "nbformat_minor": 2
}
