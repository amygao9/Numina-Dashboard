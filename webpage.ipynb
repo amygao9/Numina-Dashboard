{
 "cells": [
  {
   "cell_type": "code",
   "execution_count": 26,
   "metadata": {},
   "outputs": [
    {
     "data": {
      "text/html": [
       "        <script type=\"text/javascript\">\n",
       "        window.PlotlyConfig = {MathJaxConfig: 'local'};\n",
       "        if (window.MathJax) {MathJax.Hub.Config({SVG: {font: \"STIX-Web\"}});}\n",
       "        if (typeof require !== 'undefined') {\n",
       "        require.undef(\"plotly\");\n",
       "        requirejs.config({\n",
       "            paths: {\n",
       "                'plotly': ['https://cdn.plot.ly/plotly-latest.min']\n",
       "            }\n",
       "        });\n",
       "        require(['plotly'], function(Plotly) {\n",
       "            window._Plotly = Plotly;\n",
       "        });\n",
       "        }\n",
       "        </script>\n",
       "        "
      ]
     },
     "metadata": {},
     "output_type": "display_data"
    }
   ],
   "source": [
    "import requests\n",
    "import json\n",
    "\n",
    "# Standard Data Science Helpers\n",
    "import numpy as np\n",
    "import pandas as pd\n",
    "import scipy\n",
    "\n",
    "import plotly as py\n",
    "import plotly.graph_objs as go\n",
    "from plotly.offline import iplot, init_notebook_mode\n",
    "#init_notebook_mode(connected=True)\n",
    "\n",
    "import cufflinks as cf\n",
    "cf.go_offline(connected=True)\n",
    "cf.set_config_file(colorscale='plotly', world_readable=True)\n",
    "\n",
    "# Extra options\n",
    "pd.options.display.max_rows = 30\n",
    "pd.options.display.max_columns = 25\n",
    "\n",
    "# Show all code cells outputs\n",
    "from IPython.core.interactiveshell import InteractiveShell\n",
    "InteractiveShell.ast_node_interactivity = 'all'\n",
    "\n",
    "import os\n",
    "from IPython.display import Image, display, HTML\n",
    "\n",
    "import ipywidgets as widgets\n",
    "from ipywidgets import interact, interact_manual\n",
    "\n",
    "import cv2\n",
    "import matplotlib.pyplot as plt\n",
    "import datetime as dt\n",
    "\n",
    "%run login.py\n",
    "\n",
    "loginquery = f\"\"\"\n",
    "mutation {{\n",
    "  logIn(\n",
    "      email:\\\"{login}\\\",\n",
    "      password:\\\"{pwd}\\\") {{\n",
    "    jwt {{\n",
    "      token\n",
    "      exp\n",
    "    }}\n",
    "  }}\n",
    "}}\n",
    "\"\"\"\n",
    "\n",
    "url = 'https://api.numina.co/graphql'\n",
    "mylogin = requests.post(url, json={'query': loginquery})\n",
    "token = mylogin.json()['data']['logIn']['jwt']['token']\n",
    "\n",
    "devices = {'Streetscape': ('SWLSANDBOX1', 'img/Streetscape.png'), 'Outside': ('SWLSANDBOX3', 'img/Outside.png'),\n",
    "           'UnderRaincoat': ('SWLSANDBOX2', 'img/UnderRaincoat.png')}"
   ]
  },
  {
   "cell_type": "markdown",
   "metadata": {},
   "source": [
    "## Question 2"
   ]
  },
  {
   "cell_type": "code",
   "execution_count": 29,
   "metadata": {},
   "outputs": [],
   "source": [
    "def getHeatmapImage(device, starttime, endtime, token=token):\n",
    "    try:\n",
    "        serial = devices[device][0]\n",
    "    except KeyError:\n",
    "        raise Exception('Invalid device name.')\n",
    "    \n",
    "    query = \"\"\"\n",
    "    query {\n",
    "      feedHeatmaps(\n",
    "        serialno: \"%s\",\n",
    "        startTime:\"%s\",\n",
    "        endTime:\"%s\",\n",
    "        objClasses:[\"pedestrian\"],\n",
    "        timezone:\"America/New_York\") {\n",
    "        edges {\n",
    "          node {\n",
    "            time\n",
    "            objClass\n",
    "            heatmap\n",
    "          }\n",
    "        }\n",
    "      }\n",
    "    }\n",
    "    \"\"\" % (serial, starttime.strftime(\"%Y-%m-%dT%H:00:00\"), endtime.strftime(\"%Y-%m-%dT%H:00:00\"))\n",
    "\n",
    "    heatdata = requests.post(url, json={'query': query}, headers = {'Authorization':token})\n",
    "    \n",
    "    heatarr = np.zeros((480,640))\n",
    "    \n",
    "    for point in heatdata.json()['data']['feedHeatmaps']['edges'][0]['node']['heatmap']:\n",
    "        heatarr[point[1]][point[0]] = point[2]\n",
    "    \n",
    "    \n",
    "    img = cv2.imread(devices[device][1])\n",
    "    heatmap = cv2.resize(heatarr, (img.shape[1], img.shape[0]))\n",
    "    heatmap = cv2.applyColorMap(np.uint8(255 * heatmap), cv2.COLORMAP_JET)\n",
    "    combined_image = cv2.addWeighted(img,1,heatmap,0.3,0)\n",
    "    \n",
    "    return combined_image\n",
    "    "
   ]
  },
  {
   "cell_type": "code",
   "execution_count": 30,
   "metadata": {},
   "outputs": [
    {
     "data": {
      "text/plain": [
       "-1"
      ]
     },
     "execution_count": 30,
     "metadata": {},
     "output_type": "execute_result"
    }
   ],
   "source": [
    "cv2.imshow('x', getHeatmapImage('Outside', dt.datetime(2017, 5, 17, 0), dt.datetime(2019, 10, 17, 23)))\n",
    "cv2.waitKey(0)"
   ]
  }
 ],
 "metadata": {
  "kernelspec": {
   "display_name": "Python 3",
   "language": "python",
   "name": "python3"
  },
  "language_info": {
   "codemirror_mode": {
    "name": "ipython",
    "version": 3
   },
   "file_extension": ".py",
   "mimetype": "text/x-python",
   "name": "python",
   "nbconvert_exporter": "python",
   "pygments_lexer": "ipython3",
   "version": "3.7.4"
  }
 },
 "nbformat": 4,
 "nbformat_minor": 4
}
